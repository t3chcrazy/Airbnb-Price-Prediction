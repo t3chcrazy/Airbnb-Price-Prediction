{
 "cells": [
  {
   "cell_type": "code",
   "execution_count": 1,
   "metadata": {},
   "outputs": [],
   "source": [
    "import pandas as pd\n",
    "import numpy as np\n",
    "import matplotlib.pyplot as plt\n",
    "import seaborn as sns\n",
    "from sklearn.linear_model import Lasso, Ridge, LinearRegression\n",
    "from sklearn.ensemble import RandomForestRegressor\n",
    "from sklearn import svm\n",
    "from math import radians, sin, cos, acos\n",
    "from geopy.distance import distance\n",
    "import pickle\n",
    "from os.path import exists\n",
    "\n",
    "%matplotlib inline"
   ]
  },
  {
   "cell_type": "markdown",
   "metadata": {},
   "source": [
    "# Accessing and getting basic information about Data"
   ]
  },
  {
   "cell_type": "code",
   "execution_count": 2,
   "metadata": {},
   "outputs": [],
   "source": [
    "df = pd.read_csv(\"airbnb.csv\")"
   ]
  },
  {
   "cell_type": "code",
   "execution_count": 3,
   "metadata": {},
   "outputs": [
    {
     "data": {
      "text/html": [
       "<div>\n",
       "<style scoped>\n",
       "    .dataframe tbody tr th:only-of-type {\n",
       "        vertical-align: middle;\n",
       "    }\n",
       "\n",
       "    .dataframe tbody tr th {\n",
       "        vertical-align: top;\n",
       "    }\n",
       "\n",
       "    .dataframe thead th {\n",
       "        text-align: right;\n",
       "    }\n",
       "</style>\n",
       "<table border=\"1\" class=\"dataframe\">\n",
       "  <thead>\n",
       "    <tr style=\"text-align: right;\">\n",
       "      <th></th>\n",
       "      <th>id</th>\n",
       "      <th>name</th>\n",
       "      <th>host_id</th>\n",
       "      <th>host_name</th>\n",
       "      <th>neighbourhood_group</th>\n",
       "      <th>neighbourhood</th>\n",
       "      <th>latitude</th>\n",
       "      <th>longitude</th>\n",
       "      <th>room_type</th>\n",
       "      <th>price</th>\n",
       "      <th>minimum_nights</th>\n",
       "      <th>number_of_reviews</th>\n",
       "      <th>last_review</th>\n",
       "      <th>reviews_per_month</th>\n",
       "      <th>calculated_host_listings_count</th>\n",
       "      <th>availability_365</th>\n",
       "    </tr>\n",
       "  </thead>\n",
       "  <tbody>\n",
       "    <tr>\n",
       "      <th>0</th>\n",
       "      <td>2539</td>\n",
       "      <td>Clean &amp; quiet apt home by the park</td>\n",
       "      <td>2787</td>\n",
       "      <td>John</td>\n",
       "      <td>Brooklyn</td>\n",
       "      <td>Kensington</td>\n",
       "      <td>40.64749</td>\n",
       "      <td>-73.97237</td>\n",
       "      <td>Private room</td>\n",
       "      <td>149</td>\n",
       "      <td>1</td>\n",
       "      <td>9</td>\n",
       "      <td>19-10-2018</td>\n",
       "      <td>0.21</td>\n",
       "      <td>6</td>\n",
       "      <td>365</td>\n",
       "    </tr>\n",
       "    <tr>\n",
       "      <th>1</th>\n",
       "      <td>2595</td>\n",
       "      <td>Skylit Midtown Castle</td>\n",
       "      <td>2845</td>\n",
       "      <td>Jennifer</td>\n",
       "      <td>Manhattan</td>\n",
       "      <td>Midtown</td>\n",
       "      <td>40.75362</td>\n",
       "      <td>-73.98377</td>\n",
       "      <td>Entire home/apt</td>\n",
       "      <td>225</td>\n",
       "      <td>1</td>\n",
       "      <td>45</td>\n",
       "      <td>21-05-2019</td>\n",
       "      <td>0.38</td>\n",
       "      <td>2</td>\n",
       "      <td>355</td>\n",
       "    </tr>\n",
       "    <tr>\n",
       "      <th>2</th>\n",
       "      <td>3647</td>\n",
       "      <td>THE VILLAGE OF HARLEM....NEW YORK !</td>\n",
       "      <td>4632</td>\n",
       "      <td>Elisabeth</td>\n",
       "      <td>Manhattan</td>\n",
       "      <td>Harlem</td>\n",
       "      <td>40.80902</td>\n",
       "      <td>-73.94190</td>\n",
       "      <td>Private room</td>\n",
       "      <td>150</td>\n",
       "      <td>3</td>\n",
       "      <td>0</td>\n",
       "      <td>NaN</td>\n",
       "      <td>NaN</td>\n",
       "      <td>1</td>\n",
       "      <td>365</td>\n",
       "    </tr>\n",
       "    <tr>\n",
       "      <th>3</th>\n",
       "      <td>3831</td>\n",
       "      <td>Cozy Entire Floor of Brownstone</td>\n",
       "      <td>4869</td>\n",
       "      <td>LisaRoxanne</td>\n",
       "      <td>Brooklyn</td>\n",
       "      <td>Clinton Hill</td>\n",
       "      <td>40.68514</td>\n",
       "      <td>-73.95976</td>\n",
       "      <td>Entire home/apt</td>\n",
       "      <td>89</td>\n",
       "      <td>1</td>\n",
       "      <td>270</td>\n",
       "      <td>05-07-2019</td>\n",
       "      <td>4.64</td>\n",
       "      <td>1</td>\n",
       "      <td>194</td>\n",
       "    </tr>\n",
       "    <tr>\n",
       "      <th>4</th>\n",
       "      <td>5022</td>\n",
       "      <td>Entire Apt: Spacious Studio/Loft by central park</td>\n",
       "      <td>7192</td>\n",
       "      <td>Laura</td>\n",
       "      <td>Manhattan</td>\n",
       "      <td>East Harlem</td>\n",
       "      <td>40.79851</td>\n",
       "      <td>-73.94399</td>\n",
       "      <td>Entire home/apt</td>\n",
       "      <td>80</td>\n",
       "      <td>10</td>\n",
       "      <td>9</td>\n",
       "      <td>19-11-2018</td>\n",
       "      <td>0.10</td>\n",
       "      <td>1</td>\n",
       "      <td>0</td>\n",
       "    </tr>\n",
       "  </tbody>\n",
       "</table>\n",
       "</div>"
      ],
      "text/plain": [
       "     id                                              name  host_id  \\\n",
       "0  2539                Clean & quiet apt home by the park     2787   \n",
       "1  2595                             Skylit Midtown Castle     2845   \n",
       "2  3647               THE VILLAGE OF HARLEM....NEW YORK !     4632   \n",
       "3  3831                   Cozy Entire Floor of Brownstone     4869   \n",
       "4  5022  Entire Apt: Spacious Studio/Loft by central park     7192   \n",
       "\n",
       "     host_name neighbourhood_group neighbourhood  latitude  longitude  \\\n",
       "0         John            Brooklyn    Kensington  40.64749  -73.97237   \n",
       "1     Jennifer           Manhattan       Midtown  40.75362  -73.98377   \n",
       "2    Elisabeth           Manhattan        Harlem  40.80902  -73.94190   \n",
       "3  LisaRoxanne            Brooklyn  Clinton Hill  40.68514  -73.95976   \n",
       "4        Laura           Manhattan   East Harlem  40.79851  -73.94399   \n",
       "\n",
       "         room_type  price  minimum_nights  number_of_reviews last_review  \\\n",
       "0     Private room    149               1                  9  19-10-2018   \n",
       "1  Entire home/apt    225               1                 45  21-05-2019   \n",
       "2     Private room    150               3                  0         NaN   \n",
       "3  Entire home/apt     89               1                270  05-07-2019   \n",
       "4  Entire home/apt     80              10                  9  19-11-2018   \n",
       "\n",
       "   reviews_per_month  calculated_host_listings_count  availability_365  \n",
       "0               0.21                               6               365  \n",
       "1               0.38                               2               355  \n",
       "2                NaN                               1               365  \n",
       "3               4.64                               1               194  \n",
       "4               0.10                               1                 0  "
      ]
     },
     "execution_count": 3,
     "metadata": {},
     "output_type": "execute_result"
    }
   ],
   "source": [
    "df.head()"
   ]
  },
  {
   "cell_type": "code",
   "execution_count": 4,
   "metadata": {},
   "outputs": [
    {
     "data": {
      "text/plain": [
       "id                                48895\n",
       "name                              47896\n",
       "host_id                           37457\n",
       "host_name                         11452\n",
       "neighbourhood_group                   5\n",
       "neighbourhood                       221\n",
       "latitude                          19048\n",
       "longitude                         14718\n",
       "room_type                             3\n",
       "price                               674\n",
       "minimum_nights                      109\n",
       "number_of_reviews                   394\n",
       "last_review                        1764\n",
       "reviews_per_month                   937\n",
       "calculated_host_listings_count       47\n",
       "availability_365                    366\n",
       "dtype: int64"
      ]
     },
     "execution_count": 4,
     "metadata": {},
     "output_type": "execute_result"
    }
   ],
   "source": [
    "df.nunique()"
   ]
  },
  {
   "cell_type": "code",
   "execution_count": 5,
   "metadata": {},
   "outputs": [
    {
     "name": "stdout",
     "output_type": "stream",
     "text": [
      "<class 'pandas.core.frame.DataFrame'>\n",
      "RangeIndex: 48895 entries, 0 to 48894\n",
      "Data columns (total 16 columns):\n",
      "id                                48895 non-null int64\n",
      "name                              48879 non-null object\n",
      "host_id                           48895 non-null int64\n",
      "host_name                         48874 non-null object\n",
      "neighbourhood_group               48895 non-null object\n",
      "neighbourhood                     48895 non-null object\n",
      "latitude                          48895 non-null float64\n",
      "longitude                         48895 non-null float64\n",
      "room_type                         48895 non-null object\n",
      "price                             48895 non-null int64\n",
      "minimum_nights                    48895 non-null int64\n",
      "number_of_reviews                 48895 non-null int64\n",
      "last_review                       38843 non-null object\n",
      "reviews_per_month                 38843 non-null float64\n",
      "calculated_host_listings_count    48895 non-null int64\n",
      "availability_365                  48895 non-null int64\n",
      "dtypes: float64(3), int64(7), object(6)\n",
      "memory usage: 6.0+ MB\n"
     ]
    }
   ],
   "source": [
    "df.info()"
   ]
  },
  {
   "cell_type": "code",
   "execution_count": 6,
   "metadata": {},
   "outputs": [],
   "source": [
    "df.set_index(\"id\", inplace = True)"
   ]
  },
  {
   "cell_type": "code",
   "execution_count": 7,
   "metadata": {},
   "outputs": [
    {
     "data": {
      "text/plain": [
       "name                                 16\n",
       "host_id                               0\n",
       "host_name                            21\n",
       "neighbourhood_group                   0\n",
       "neighbourhood                         0\n",
       "latitude                              0\n",
       "longitude                             0\n",
       "room_type                             0\n",
       "price                                 0\n",
       "minimum_nights                        0\n",
       "number_of_reviews                     0\n",
       "last_review                       10052\n",
       "reviews_per_month                 10052\n",
       "calculated_host_listings_count        0\n",
       "availability_365                      0\n",
       "dtype: int64"
      ]
     },
     "execution_count": 7,
     "metadata": {},
     "output_type": "execute_result"
    }
   ],
   "source": [
    "df.isnull().sum()"
   ]
  },
  {
   "cell_type": "code",
   "execution_count": 8,
   "metadata": {},
   "outputs": [
    {
     "data": {
      "text/plain": [
       "name                              0\n",
       "host_id                           0\n",
       "host_name                         0\n",
       "neighbourhood_group               0\n",
       "neighbourhood                     0\n",
       "latitude                          0\n",
       "longitude                         0\n",
       "room_type                         0\n",
       "price                             0\n",
       "minimum_nights                    0\n",
       "number_of_reviews                 0\n",
       "last_review                       0\n",
       "reviews_per_month                 0\n",
       "calculated_host_listings_count    0\n",
       "availability_365                  0\n",
       "dtype: int64"
      ]
     },
     "execution_count": 8,
     "metadata": {},
     "output_type": "execute_result"
    }
   ],
   "source": [
    "df.fillna({\"name\": \"NA\", \"host_name\": \"NA\", \"last_review\": \"NA\", \"reviews_per_month\": 0}, inplace = True)\n",
    "df.isnull().sum()"
   ]
  },
  {
   "cell_type": "code",
   "execution_count": 9,
   "metadata": {},
   "outputs": [
    {
     "data": {
      "text/plain": [
       "count    48895.000000\n",
       "mean       152.720687\n",
       "std        240.154170\n",
       "min          0.000000\n",
       "25%         69.000000\n",
       "50%        106.000000\n",
       "75%        175.000000\n",
       "max      10000.000000\n",
       "Name: price, dtype: float64"
      ]
     },
     "execution_count": 9,
     "metadata": {},
     "output_type": "execute_result"
    }
   ],
   "source": [
    "df[\"price\"].describe()"
   ]
  },
  {
   "cell_type": "markdown",
   "metadata": {},
   "source": [
    "# Visualizing data to gather data about the various features"
   ]
  },
  {
   "cell_type": "code",
   "execution_count": 10,
   "metadata": {},
   "outputs": [
    {
     "data": {
      "image/png": "[encoded data removed]",
      "text/plain": [
       "<Figure size 432x288 with 1 Axes>"
      ]
     },
     "metadata": {
      "needs_background": "light"
     },
     "output_type": "display_data"
    }
   ],
   "source": [
    "sns.boxplot(df[\"price\"]);"
   ]
  },
  {
   "cell_type": "code",
   "execution_count": 11,
   "metadata": {},
   "outputs": [
    {
     "data": {
      "image/png": "[encoded data removed]",
      "text/plain": [
       "<Figure size 432x288 with 1 Axes>"
      ]
     },
     "metadata": {
      "needs_background": "light"
     },
     "output_type": "display_data"
    }
   ],
   "source": [
    "sns.distplot(df[\"price\"]);"
   ]
  },
  {
   "cell_type": "code",
   "execution_count": 12,
   "metadata": {},
   "outputs": [
    {
     "data": {
      "image/png": "[encoded data removed]",
      "text/plain": [
       "<Figure size 432x288 with 1 Axes>"
      ]
     },
     "metadata": {
      "needs_background": "light"
     },
     "output_type": "display_data"
    }
   ],
   "source": [
    "# Setting threshold to 300\n",
    "df = df[df[\"price\"] <= 300]\n",
    "sns.distplot(df[\"price\"]);"
   ]
  },
  {
   "cell_type": "code",
   "execution_count": 13,
   "metadata": {},
   "outputs": [
    {
     "data": {
      "text/plain": [
       "count    45538.000000\n",
       "mean       118.284070\n",
       "std         65.908362\n",
       "min          0.000000\n",
       "25%         65.000000\n",
       "50%        100.000000\n",
       "75%        155.000000\n",
       "max        300.000000\n",
       "Name: price, dtype: float64"
      ]
     },
     "execution_count": 13,
     "metadata": {},
     "output_type": "execute_result"
    }
   ],
   "source": [
    "df[\"price\"].describe()"
   ]
  },
  {
   "cell_type": "code",
   "execution_count": 14,
   "metadata": {},
   "outputs": [
    {
     "data": {
      "image/png": "[encoded data removed]",
      "text/plain": [
       "<Figure size 432x288 with 1 Axes>"
      ]
     },
     "metadata": {
      "needs_background": "light"
     },
     "output_type": "display_data"
    }
   ],
   "source": [
    "sns.boxplot(x = df[\"neighbourhood_group\"], y = df[\"price\"]);"
   ]
  },
  {
   "cell_type": "code",
   "execution_count": 15,
   "metadata": {},
   "outputs": [
    {
     "data": {
      "text/plain": [
       "array(['Brooklyn', 'Manhattan', 'Queens', 'Staten Island', 'Bronx'],\n",
       "      dtype=object)"
      ]
     },
     "execution_count": 15,
     "metadata": {},
     "output_type": "execute_result"
    }
   ],
   "source": [
    "df[\"neighbourhood_group\"].unique()"
   ]
  },
  {
   "cell_type": "code",
   "execution_count": 16,
   "metadata": {},
   "outputs": [],
   "source": [
    "min_distances = []\n",
    "airports = {\"JFK\": (40.6413, -73.7781), \"LaGuardia\": (40.7769, -73.8740), \"Newark\": (40.6895, -74.1745)}\n",
    "\n",
    "def geo_distance(origin, dest):\n",
    "    return distance(origin, dest).km\n",
    "\n",
    "def distance_to_nearest_airport(row):\n",
    "    elat = row.latitude\n",
    "    elon = row.longitude\n",
    "    min_dist = 100000000000\n",
    "    for v in airports.values():\n",
    "        curr_dist = geo_distance(v, (elat, elon))\n",
    "        if curr_dist < min_dist:\n",
    "            min_dist = curr_dist\n",
    "    min_distances.append(round(min_dist, 3))"
   ]
  },
  {
   "cell_type": "code",
   "execution_count": 17,
   "metadata": {},
   "outputs": [
    {
     "data": {
      "text/plain": [
       "45538"
      ]
     },
     "execution_count": 17,
     "metadata": {},
     "output_type": "execute_result"
    }
   ],
   "source": [
    "len(df)"
   ]
  },
  {
   "cell_type": "code",
   "execution_count": 18,
   "metadata": {},
   "outputs": [],
   "source": [
    "for i in range(len(df)):\n",
    "    distance_to_nearest_airport(df.iloc[i])"
   ]
  },
  {
   "cell_type": "code",
   "execution_count": 19,
   "metadata": {},
   "outputs": [
    {
     "data": {
      "text/plain": [
       "[16.447, 9.622, 6.75, 12.503, 6.376, 9.125, 12.16, 9.46, 8.34, 12.094]"
      ]
     },
     "execution_count": 19,
     "metadata": {},
     "output_type": "execute_result"
    }
   ],
   "source": [
    "min_distances[:10]"
   ]
  },
  {
   "cell_type": "code",
   "execution_count": 20,
   "metadata": {},
   "outputs": [],
   "source": [
    "df[\"min_distance_to_airport\"] = min_distances"
   ]
  },
  {
   "cell_type": "code",
   "execution_count": 21,
   "metadata": {},
   "outputs": [
    {
     "data": {
      "text/html": [
       "<div>\n",
       "<style scoped>\n",
       "    .dataframe tbody tr th:only-of-type {\n",
       "        vertical-align: middle;\n",
       "    }\n",
       "\n",
       "    .dataframe tbody tr th {\n",
       "        vertical-align: top;\n",
       "    }\n",
       "\n",
       "    .dataframe thead th {\n",
       "        text-align: right;\n",
       "    }\n",
       "</style>\n",
       "<table border=\"1\" class=\"dataframe\">\n",
       "  <thead>\n",
       "    <tr style=\"text-align: right;\">\n",
       "      <th></th>\n",
       "      <th>name</th>\n",
       "      <th>host_id</th>\n",
       "      <th>host_name</th>\n",
       "      <th>neighbourhood_group</th>\n",
       "      <th>neighbourhood</th>\n",
       "      <th>latitude</th>\n",
       "      <th>longitude</th>\n",
       "      <th>room_type</th>\n",
       "      <th>price</th>\n",
       "      <th>minimum_nights</th>\n",
       "      <th>number_of_reviews</th>\n",
       "      <th>last_review</th>\n",
       "      <th>reviews_per_month</th>\n",
       "      <th>calculated_host_listings_count</th>\n",
       "      <th>availability_365</th>\n",
       "      <th>min_distance_to_airport</th>\n",
       "    </tr>\n",
       "    <tr>\n",
       "      <th>id</th>\n",
       "      <th></th>\n",
       "      <th></th>\n",
       "      <th></th>\n",
       "      <th></th>\n",
       "      <th></th>\n",
       "      <th></th>\n",
       "      <th></th>\n",
       "      <th></th>\n",
       "      <th></th>\n",
       "      <th></th>\n",
       "      <th></th>\n",
       "      <th></th>\n",
       "      <th></th>\n",
       "      <th></th>\n",
       "      <th></th>\n",
       "      <th></th>\n",
       "    </tr>\n",
       "  </thead>\n",
       "  <tbody>\n",
       "    <tr>\n",
       "      <th>2539</th>\n",
       "      <td>Clean &amp; quiet apt home by the park</td>\n",
       "      <td>2787</td>\n",
       "      <td>John</td>\n",
       "      <td>Brooklyn</td>\n",
       "      <td>Kensington</td>\n",
       "      <td>40.64749</td>\n",
       "      <td>-73.97237</td>\n",
       "      <td>Private room</td>\n",
       "      <td>149</td>\n",
       "      <td>1</td>\n",
       "      <td>9</td>\n",
       "      <td>19-10-2018</td>\n",
       "      <td>0.21</td>\n",
       "      <td>6</td>\n",
       "      <td>365</td>\n",
       "      <td>16.447</td>\n",
       "    </tr>\n",
       "    <tr>\n",
       "      <th>2595</th>\n",
       "      <td>Skylit Midtown Castle</td>\n",
       "      <td>2845</td>\n",
       "      <td>Jennifer</td>\n",
       "      <td>Manhattan</td>\n",
       "      <td>Midtown</td>\n",
       "      <td>40.75362</td>\n",
       "      <td>-73.98377</td>\n",
       "      <td>Entire home/apt</td>\n",
       "      <td>225</td>\n",
       "      <td>1</td>\n",
       "      <td>45</td>\n",
       "      <td>21-05-2019</td>\n",
       "      <td>0.38</td>\n",
       "      <td>2</td>\n",
       "      <td>355</td>\n",
       "      <td>9.622</td>\n",
       "    </tr>\n",
       "    <tr>\n",
       "      <th>3647</th>\n",
       "      <td>THE VILLAGE OF HARLEM....NEW YORK !</td>\n",
       "      <td>4632</td>\n",
       "      <td>Elisabeth</td>\n",
       "      <td>Manhattan</td>\n",
       "      <td>Harlem</td>\n",
       "      <td>40.80902</td>\n",
       "      <td>-73.94190</td>\n",
       "      <td>Private room</td>\n",
       "      <td>150</td>\n",
       "      <td>3</td>\n",
       "      <td>0</td>\n",
       "      <td>NA</td>\n",
       "      <td>0.00</td>\n",
       "      <td>1</td>\n",
       "      <td>365</td>\n",
       "      <td>6.750</td>\n",
       "    </tr>\n",
       "    <tr>\n",
       "      <th>3831</th>\n",
       "      <td>Cozy Entire Floor of Brownstone</td>\n",
       "      <td>4869</td>\n",
       "      <td>LisaRoxanne</td>\n",
       "      <td>Brooklyn</td>\n",
       "      <td>Clinton Hill</td>\n",
       "      <td>40.68514</td>\n",
       "      <td>-73.95976</td>\n",
       "      <td>Entire home/apt</td>\n",
       "      <td>89</td>\n",
       "      <td>1</td>\n",
       "      <td>270</td>\n",
       "      <td>05-07-2019</td>\n",
       "      <td>4.64</td>\n",
       "      <td>1</td>\n",
       "      <td>194</td>\n",
       "      <td>12.503</td>\n",
       "    </tr>\n",
       "    <tr>\n",
       "      <th>5022</th>\n",
       "      <td>Entire Apt: Spacious Studio/Loft by central park</td>\n",
       "      <td>7192</td>\n",
       "      <td>Laura</td>\n",
       "      <td>Manhattan</td>\n",
       "      <td>East Harlem</td>\n",
       "      <td>40.79851</td>\n",
       "      <td>-73.94399</td>\n",
       "      <td>Entire home/apt</td>\n",
       "      <td>80</td>\n",
       "      <td>10</td>\n",
       "      <td>9</td>\n",
       "      <td>19-11-2018</td>\n",
       "      <td>0.10</td>\n",
       "      <td>1</td>\n",
       "      <td>0</td>\n",
       "      <td>6.376</td>\n",
       "    </tr>\n",
       "  </tbody>\n",
       "</table>\n",
       "</div>"
      ],
      "text/plain": [
       "                                                  name  host_id    host_name  \\\n",
       "id                                                                             \n",
       "2539                Clean & quiet apt home by the park     2787         John   \n",
       "2595                             Skylit Midtown Castle     2845     Jennifer   \n",
       "3647               THE VILLAGE OF HARLEM....NEW YORK !     4632    Elisabeth   \n",
       "3831                   Cozy Entire Floor of Brownstone     4869  LisaRoxanne   \n",
       "5022  Entire Apt: Spacious Studio/Loft by central park     7192        Laura   \n",
       "\n",
       "     neighbourhood_group neighbourhood  latitude  longitude        room_type  \\\n",
       "id                                                                             \n",
       "2539            Brooklyn    Kensington  40.64749  -73.97237     Private room   \n",
       "2595           Manhattan       Midtown  40.75362  -73.98377  Entire home/apt   \n",
       "3647           Manhattan        Harlem  40.80902  -73.94190     Private room   \n",
       "3831            Brooklyn  Clinton Hill  40.68514  -73.95976  Entire home/apt   \n",
       "5022           Manhattan   East Harlem  40.79851  -73.94399  Entire home/apt   \n",
       "\n",
       "      price  minimum_nights  number_of_reviews last_review  reviews_per_month  \\\n",
       "id                                                                              \n",
       "2539    149               1                  9  19-10-2018               0.21   \n",
       "2595    225               1                 45  21-05-2019               0.38   \n",
       "3647    150               3                  0          NA               0.00   \n",
       "3831     89               1                270  05-07-2019               4.64   \n",
       "5022     80              10                  9  19-11-2018               0.10   \n",
       "\n",
       "      calculated_host_listings_count  availability_365  \\\n",
       "id                                                       \n",
       "2539                               6               365   \n",
       "2595                               2               355   \n",
       "3647                               1               365   \n",
       "3831                               1               194   \n",
       "5022                               1                 0   \n",
       "\n",
       "      min_distance_to_airport  \n",
       "id                             \n",
       "2539                   16.447  \n",
       "2595                    9.622  \n",
       "3647                    6.750  \n",
       "3831                   12.503  \n",
       "5022                    6.376  "
      ]
     },
     "execution_count": 21,
     "metadata": {},
     "output_type": "execute_result"
    }
   ],
   "source": [
    "df.head()"
   ]
  },
  {
   "cell_type": "code",
   "execution_count": 22,
   "metadata": {},
   "outputs": [
    {
     "data": {
      "image/png": "[encoded data removed]",
      "text/plain": [
       "<Figure size 476.5x360 with 1 Axes>"
      ]
     },
     "metadata": {
      "needs_background": "light"
     },
     "output_type": "display_data"
    }
   ],
   "source": [
    "sns.lmplot(x = \"min_distance_to_airport\", y = \"price\", hue = \"room_type\", data = df);"
   ]
  },
  {
   "cell_type": "code",
   "execution_count": 23,
   "metadata": {},
   "outputs": [
    {
     "data": {
      "text/plain": [
       "count    45538.000000\n",
       "mean       118.284070\n",
       "std         65.908362\n",
       "min          0.000000\n",
       "25%         65.000000\n",
       "50%        100.000000\n",
       "75%        155.000000\n",
       "max        300.000000\n",
       "Name: price, dtype: float64"
      ]
     },
     "execution_count": 23,
     "metadata": {},
     "output_type": "execute_result"
    }
   ],
   "source": [
    "df[\"price\"].describe()"
   ]
  },
  {
   "cell_type": "code",
   "execution_count": 24,
   "metadata": {},
   "outputs": [],
   "source": [
    "df[\"name_length\"] = df[\"name\"].str.split(\" \").map(len)"
   ]
  },
  {
   "cell_type": "code",
   "execution_count": 25,
   "metadata": {},
   "outputs": [
    {
     "data": {
      "text/html": [
       "<div>\n",
       "<style scoped>\n",
       "    .dataframe tbody tr th:only-of-type {\n",
       "        vertical-align: middle;\n",
       "    }\n",
       "\n",
       "    .dataframe tbody tr th {\n",
       "        vertical-align: top;\n",
       "    }\n",
       "\n",
       "    .dataframe thead th {\n",
       "        text-align: right;\n",
       "    }\n",
       "</style>\n",
       "<table border=\"1\" class=\"dataframe\">\n",
       "  <thead>\n",
       "    <tr style=\"text-align: right;\">\n",
       "      <th></th>\n",
       "      <th>name</th>\n",
       "      <th>host_id</th>\n",
       "      <th>host_name</th>\n",
       "      <th>neighbourhood_group</th>\n",
       "      <th>neighbourhood</th>\n",
       "      <th>latitude</th>\n",
       "      <th>longitude</th>\n",
       "      <th>room_type</th>\n",
       "      <th>price</th>\n",
       "      <th>minimum_nights</th>\n",
       "      <th>number_of_reviews</th>\n",
       "      <th>last_review</th>\n",
       "      <th>reviews_per_month</th>\n",
       "      <th>calculated_host_listings_count</th>\n",
       "      <th>availability_365</th>\n",
       "      <th>min_distance_to_airport</th>\n",
       "      <th>name_length</th>\n",
       "    </tr>\n",
       "    <tr>\n",
       "      <th>id</th>\n",
       "      <th></th>\n",
       "      <th></th>\n",
       "      <th></th>\n",
       "      <th></th>\n",
       "      <th></th>\n",
       "      <th></th>\n",
       "      <th></th>\n",
       "      <th></th>\n",
       "      <th></th>\n",
       "      <th></th>\n",
       "      <th></th>\n",
       "      <th></th>\n",
       "      <th></th>\n",
       "      <th></th>\n",
       "      <th></th>\n",
       "      <th></th>\n",
       "      <th></th>\n",
       "    </tr>\n",
       "  </thead>\n",
       "  <tbody>\n",
       "    <tr>\n",
       "      <th>2539</th>\n",
       "      <td>Clean &amp; quiet apt home by the park</td>\n",
       "      <td>2787</td>\n",
       "      <td>John</td>\n",
       "      <td>Brooklyn</td>\n",
       "      <td>Kensington</td>\n",
       "      <td>40.64749</td>\n",
       "      <td>-73.97237</td>\n",
       "      <td>Private room</td>\n",
       "      <td>149</td>\n",
       "      <td>1</td>\n",
       "      <td>9</td>\n",
       "      <td>19-10-2018</td>\n",
       "      <td>0.21</td>\n",
       "      <td>6</td>\n",
       "      <td>365</td>\n",
       "      <td>16.447</td>\n",
       "      <td>8</td>\n",
       "    </tr>\n",
       "    <tr>\n",
       "      <th>2595</th>\n",
       "      <td>Skylit Midtown Castle</td>\n",
       "      <td>2845</td>\n",
       "      <td>Jennifer</td>\n",
       "      <td>Manhattan</td>\n",
       "      <td>Midtown</td>\n",
       "      <td>40.75362</td>\n",
       "      <td>-73.98377</td>\n",
       "      <td>Entire home/apt</td>\n",
       "      <td>225</td>\n",
       "      <td>1</td>\n",
       "      <td>45</td>\n",
       "      <td>21-05-2019</td>\n",
       "      <td>0.38</td>\n",
       "      <td>2</td>\n",
       "      <td>355</td>\n",
       "      <td>9.622</td>\n",
       "      <td>3</td>\n",
       "    </tr>\n",
       "    <tr>\n",
       "      <th>3647</th>\n",
       "      <td>THE VILLAGE OF HARLEM....NEW YORK !</td>\n",
       "      <td>4632</td>\n",
       "      <td>Elisabeth</td>\n",
       "      <td>Manhattan</td>\n",
       "      <td>Harlem</td>\n",
       "      <td>40.80902</td>\n",
       "      <td>-73.94190</td>\n",
       "      <td>Private room</td>\n",
       "      <td>150</td>\n",
       "      <td>3</td>\n",
       "      <td>0</td>\n",
       "      <td>NA</td>\n",
       "      <td>0.00</td>\n",
       "      <td>1</td>\n",
       "      <td>365</td>\n",
       "      <td>6.750</td>\n",
       "      <td>6</td>\n",
       "    </tr>\n",
       "    <tr>\n",
       "      <th>3831</th>\n",
       "      <td>Cozy Entire Floor of Brownstone</td>\n",
       "      <td>4869</td>\n",
       "      <td>LisaRoxanne</td>\n",
       "      <td>Brooklyn</td>\n",
       "      <td>Clinton Hill</td>\n",
       "      <td>40.68514</td>\n",
       "      <td>-73.95976</td>\n",
       "      <td>Entire home/apt</td>\n",
       "      <td>89</td>\n",
       "      <td>1</td>\n",
       "      <td>270</td>\n",
       "      <td>05-07-2019</td>\n",
       "      <td>4.64</td>\n",
       "      <td>1</td>\n",
       "      <td>194</td>\n",
       "      <td>12.503</td>\n",
       "      <td>5</td>\n",
       "    </tr>\n",
       "    <tr>\n",
       "      <th>5022</th>\n",
       "      <td>Entire Apt: Spacious Studio/Loft by central park</td>\n",
       "      <td>7192</td>\n",
       "      <td>Laura</td>\n",
       "      <td>Manhattan</td>\n",
       "      <td>East Harlem</td>\n",
       "      <td>40.79851</td>\n",
       "      <td>-73.94399</td>\n",
       "      <td>Entire home/apt</td>\n",
       "      <td>80</td>\n",
       "      <td>10</td>\n",
       "      <td>9</td>\n",
       "      <td>19-11-2018</td>\n",
       "      <td>0.10</td>\n",
       "      <td>1</td>\n",
       "      <td>0</td>\n",
       "      <td>6.376</td>\n",
       "      <td>7</td>\n",
       "    </tr>\n",
       "  </tbody>\n",
       "</table>\n",
       "</div>"
      ],
      "text/plain": [
       "                                                  name  host_id    host_name  \\\n",
       "id                                                                             \n",
       "2539                Clean & quiet apt home by the park     2787         John   \n",
       "2595                             Skylit Midtown Castle     2845     Jennifer   \n",
       "3647               THE VILLAGE OF HARLEM....NEW YORK !     4632    Elisabeth   \n",
       "3831                   Cozy Entire Floor of Brownstone     4869  LisaRoxanne   \n",
       "5022  Entire Apt: Spacious Studio/Loft by central park     7192        Laura   \n",
       "\n",
       "     neighbourhood_group neighbourhood  latitude  longitude        room_type  \\\n",
       "id                                                                             \n",
       "2539            Brooklyn    Kensington  40.64749  -73.97237     Private room   \n",
       "2595           Manhattan       Midtown  40.75362  -73.98377  Entire home/apt   \n",
       "3647           Manhattan        Harlem  40.80902  -73.94190     Private room   \n",
       "3831            Brooklyn  Clinton Hill  40.68514  -73.95976  Entire home/apt   \n",
       "5022           Manhattan   East Harlem  40.79851  -73.94399  Entire home/apt   \n",
       "\n",
       "      price  minimum_nights  number_of_reviews last_review  reviews_per_month  \\\n",
       "id                                                                              \n",
       "2539    149               1                  9  19-10-2018               0.21   \n",
       "2595    225               1                 45  21-05-2019               0.38   \n",
       "3647    150               3                  0          NA               0.00   \n",
       "3831     89               1                270  05-07-2019               4.64   \n",
       "5022     80              10                  9  19-11-2018               0.10   \n",
       "\n",
       "      calculated_host_listings_count  availability_365  \\\n",
       "id                                                       \n",
       "2539                               6               365   \n",
       "2595                               2               355   \n",
       "3647                               1               365   \n",
       "3831                               1               194   \n",
       "5022                               1                 0   \n",
       "\n",
       "      min_distance_to_airport  name_length  \n",
       "id                                          \n",
       "2539                   16.447            8  \n",
       "2595                    9.622            3  \n",
       "3647                    6.750            6  \n",
       "3831                   12.503            5  \n",
       "5022                    6.376            7  "
      ]
     },
     "execution_count": 25,
     "metadata": {},
     "output_type": "execute_result"
    }
   ],
   "source": [
    "df.head()"
   ]
  },
  {
   "cell_type": "code",
   "execution_count": 26,
   "metadata": {},
   "outputs": [
    {
     "data": {
      "text/plain": [
       "host_id                          -0.045841\n",
       "latitude                          0.067392\n",
       "longitude                        -0.305790\n",
       "price                             1.000000\n",
       "minimum_nights                    0.028054\n",
       "number_of_reviews                -0.027883\n",
       "reviews_per_month                -0.050319\n",
       "calculated_host_listings_count    0.155281\n",
       "availability_365                  0.057904\n",
       "min_distance_to_airport           0.080245\n",
       "name_length                       0.067450\n",
       "Name: price, dtype: float64"
      ]
     },
     "execution_count": 26,
     "metadata": {},
     "output_type": "execute_result"
    }
   ],
   "source": [
    "df.corr()[\"price\"]"
   ]
  },
  {
   "cell_type": "code",
   "execution_count": 27,
   "metadata": {},
   "outputs": [
    {
     "data": {
      "image/png": "[encoded data removed]",
      "text/plain": [
       "<Figure size 432x288 with 1 Axes>"
      ]
     },
     "metadata": {
      "needs_background": "light"
     },
     "output_type": "display_data"
    }
   ],
   "source": [
    "sns.scatterplot(x = \"minimum_nights\", y = \"price\", hue = \"neighbourhood_group\",data = df);"
   ]
  },
  {
   "cell_type": "code",
   "execution_count": 28,
   "metadata": {},
   "outputs": [
    {
     "data": {
      "text/plain": [
       "count    45538.000000\n",
       "mean         6.906408\n",
       "std         19.894956\n",
       "min          1.000000\n",
       "25%          1.000000\n",
       "50%          2.000000\n",
       "75%          5.000000\n",
       "max       1250.000000\n",
       "Name: minimum_nights, dtype: float64"
      ]
     },
     "execution_count": 28,
     "metadata": {},
     "output_type": "execute_result"
    }
   ],
   "source": [
    "df[\"minimum_nights\"].describe()"
   ]
  },
  {
   "cell_type": "code",
   "execution_count": 29,
   "metadata": {},
   "outputs": [
    {
     "data": {
      "image/png": "[encoded data removed]",
      "text/plain": [
       "<Figure size 432x288 with 1 Axes>"
      ]
     },
     "metadata": {
      "needs_background": "light"
     },
     "output_type": "display_data"
    }
   ],
   "source": [
    "df[\"minimum_nights\"].hist()\n",
    "plt.xticks(np.arange(1, 1250, 50), rotation = \"vertical\")\n",
    "plt.show();"
   ]
  },
  {
   "cell_type": "code",
   "execution_count": 30,
   "metadata": {},
   "outputs": [
    {
     "data": {
      "image/png": "[encoded data removed]",
      "text/plain": [
       "<Figure size 432x288 with 1 Axes>"
      ]
     },
     "metadata": {
      "needs_background": "light"
     },
     "output_type": "display_data"
    }
   ],
   "source": [
    "df[df[\"minimum_nights\"] <= 101][\"minimum_nights\"].hist()\n",
    "plt.xticks(np.arange(1, 51, 5), rotation = \"vertical\")\n",
    "plt.show();"
   ]
  },
  {
   "cell_type": "code",
   "execution_count": 31,
   "metadata": {},
   "outputs": [],
   "source": [
    "df.loc[(df[\"minimum_nights\"] <= 30), \"minimum_nights\"] = 30"
   ]
  },
  {
   "cell_type": "code",
   "execution_count": 32,
   "metadata": {},
   "outputs": [
    {
     "data": {
      "image/png": "[encoded data removed]",
      "text/plain": [
       "<Figure size 477.75x360 with 1 Axes>"
      ]
     },
     "metadata": {
      "needs_background": "light"
     },
     "output_type": "display_data"
    }
   ],
   "source": [
    "sns.lmplot(x = \"availability_365\", y = \"price\", hue = \"neighbourhood_group\", data = df);"
   ]
  },
  {
   "cell_type": "code",
   "execution_count": 33,
   "metadata": {},
   "outputs": [
    {
     "data": {
      "text/plain": [
       "minimum_nights                    0.003413\n",
       "number_of_reviews                 0.027883\n",
       "host_id                           0.045841\n",
       "reviews_per_month                 0.050319\n",
       "availability_365                  0.057904\n",
       "latitude                          0.067392\n",
       "name_length                       0.067450\n",
       "min_distance_to_airport           0.080245\n",
       "calculated_host_listings_count    0.155281\n",
       "longitude                         0.305790\n",
       "price                             1.000000\n",
       "Name: price, dtype: float64"
      ]
     },
     "execution_count": 33,
     "metadata": {},
     "output_type": "execute_result"
    }
   ],
   "source": [
    "df.corr()[\"price\"].map(abs).sort_values()"
   ]
  },
  {
   "cell_type": "code",
   "execution_count": 34,
   "metadata": {},
   "outputs": [],
   "source": [
    "drop_columns = [\"name\", \"host_id\", \"host_name\", \"last_review\", \"latitude\"]\n",
    "df.drop(drop_columns, axis = 1, inplace = True)"
   ]
  },
  {
   "cell_type": "code",
   "execution_count": 35,
   "metadata": {},
   "outputs": [
    {
     "data": {
      "image/png": "[encoded data removed]",
      "text/plain": [
       "<Figure size 1440x720 with 2 Axes>"
      ]
     },
     "metadata": {
      "needs_background": "light"
     },
     "output_type": "display_data"
    }
   ],
   "source": [
    "corr = df.corr(method = \"pearson\")\n",
    "plt.figure(figsize = (20, 10))\n",
    "sns.heatmap(corr, annot = True);"
   ]
  },
  {
   "cell_type": "markdown",
   "metadata": {},
   "source": [
    "# Regression"
   ]
  },
  {
   "cell_type": "code",
   "execution_count": 36,
   "metadata": {},
   "outputs": [
    {
     "data": {
      "text/html": [
       "<div>\n",
       "<style scoped>\n",
       "    .dataframe tbody tr th:only-of-type {\n",
       "        vertical-align: middle;\n",
       "    }\n",
       "\n",
       "    .dataframe tbody tr th {\n",
       "        vertical-align: top;\n",
       "    }\n",
       "\n",
       "    .dataframe thead th {\n",
       "        text-align: right;\n",
       "    }\n",
       "</style>\n",
       "<table border=\"1\" class=\"dataframe\">\n",
       "  <thead>\n",
       "    <tr style=\"text-align: right;\">\n",
       "      <th></th>\n",
       "      <th>neighbourhood_group</th>\n",
       "      <th>neighbourhood</th>\n",
       "      <th>longitude</th>\n",
       "      <th>room_type</th>\n",
       "      <th>price</th>\n",
       "      <th>minimum_nights</th>\n",
       "      <th>number_of_reviews</th>\n",
       "      <th>reviews_per_month</th>\n",
       "      <th>calculated_host_listings_count</th>\n",
       "      <th>availability_365</th>\n",
       "      <th>min_distance_to_airport</th>\n",
       "      <th>name_length</th>\n",
       "    </tr>\n",
       "    <tr>\n",
       "      <th>id</th>\n",
       "      <th></th>\n",
       "      <th></th>\n",
       "      <th></th>\n",
       "      <th></th>\n",
       "      <th></th>\n",
       "      <th></th>\n",
       "      <th></th>\n",
       "      <th></th>\n",
       "      <th></th>\n",
       "      <th></th>\n",
       "      <th></th>\n",
       "      <th></th>\n",
       "    </tr>\n",
       "  </thead>\n",
       "  <tbody>\n",
       "    <tr>\n",
       "      <th>2539</th>\n",
       "      <td>Brooklyn</td>\n",
       "      <td>Kensington</td>\n",
       "      <td>-73.97237</td>\n",
       "      <td>Private room</td>\n",
       "      <td>149</td>\n",
       "      <td>30</td>\n",
       "      <td>9</td>\n",
       "      <td>0.21</td>\n",
       "      <td>6</td>\n",
       "      <td>365</td>\n",
       "      <td>16.447</td>\n",
       "      <td>8</td>\n",
       "    </tr>\n",
       "    <tr>\n",
       "      <th>2595</th>\n",
       "      <td>Manhattan</td>\n",
       "      <td>Midtown</td>\n",
       "      <td>-73.98377</td>\n",
       "      <td>Entire home/apt</td>\n",
       "      <td>225</td>\n",
       "      <td>30</td>\n",
       "      <td>45</td>\n",
       "      <td>0.38</td>\n",
       "      <td>2</td>\n",
       "      <td>355</td>\n",
       "      <td>9.622</td>\n",
       "      <td>3</td>\n",
       "    </tr>\n",
       "    <tr>\n",
       "      <th>3647</th>\n",
       "      <td>Manhattan</td>\n",
       "      <td>Harlem</td>\n",
       "      <td>-73.94190</td>\n",
       "      <td>Private room</td>\n",
       "      <td>150</td>\n",
       "      <td>30</td>\n",
       "      <td>0</td>\n",
       "      <td>0.00</td>\n",
       "      <td>1</td>\n",
       "      <td>365</td>\n",
       "      <td>6.750</td>\n",
       "      <td>6</td>\n",
       "    </tr>\n",
       "    <tr>\n",
       "      <th>3831</th>\n",
       "      <td>Brooklyn</td>\n",
       "      <td>Clinton Hill</td>\n",
       "      <td>-73.95976</td>\n",
       "      <td>Entire home/apt</td>\n",
       "      <td>89</td>\n",
       "      <td>30</td>\n",
       "      <td>270</td>\n",
       "      <td>4.64</td>\n",
       "      <td>1</td>\n",
       "      <td>194</td>\n",
       "      <td>12.503</td>\n",
       "      <td>5</td>\n",
       "    </tr>\n",
       "    <tr>\n",
       "      <th>5022</th>\n",
       "      <td>Manhattan</td>\n",
       "      <td>East Harlem</td>\n",
       "      <td>-73.94399</td>\n",
       "      <td>Entire home/apt</td>\n",
       "      <td>80</td>\n",
       "      <td>30</td>\n",
       "      <td>9</td>\n",
       "      <td>0.10</td>\n",
       "      <td>1</td>\n",
       "      <td>0</td>\n",
       "      <td>6.376</td>\n",
       "      <td>7</td>\n",
       "    </tr>\n",
       "  </tbody>\n",
       "</table>\n",
       "</div>"
      ],
      "text/plain": [
       "     neighbourhood_group neighbourhood  longitude        room_type  price  \\\n",
       "id                                                                          \n",
       "2539            Brooklyn    Kensington  -73.97237     Private room    149   \n",
       "2595           Manhattan       Midtown  -73.98377  Entire home/apt    225   \n",
       "3647           Manhattan        Harlem  -73.94190     Private room    150   \n",
       "3831            Brooklyn  Clinton Hill  -73.95976  Entire home/apt     89   \n",
       "5022           Manhattan   East Harlem  -73.94399  Entire home/apt     80   \n",
       "\n",
       "      minimum_nights  number_of_reviews  reviews_per_month  \\\n",
       "id                                                           \n",
       "2539              30                  9               0.21   \n",
       "2595              30                 45               0.38   \n",
       "3647              30                  0               0.00   \n",
       "3831              30                270               4.64   \n",
       "5022              30                  9               0.10   \n",
       "\n",
       "      calculated_host_listings_count  availability_365  \\\n",
       "id                                                       \n",
       "2539                               6               365   \n",
       "2595                               2               355   \n",
       "3647                               1               365   \n",
       "3831                               1               194   \n",
       "5022                               1                 0   \n",
       "\n",
       "      min_distance_to_airport  name_length  \n",
       "id                                          \n",
       "2539                   16.447            8  \n",
       "2595                    9.622            3  \n",
       "3647                    6.750            6  \n",
       "3831                   12.503            5  \n",
       "5022                    6.376            7  "
      ]
     },
     "execution_count": 36,
     "metadata": {},
     "output_type": "execute_result"
    }
   ],
   "source": [
    "df.head()"
   ]
  },
  {
   "cell_type": "code",
   "execution_count": 37,
   "metadata": {},
   "outputs": [
    {
     "data": {
      "text/html": [
       "<div>\n",
       "<style scoped>\n",
       "    .dataframe tbody tr th:only-of-type {\n",
       "        vertical-align: middle;\n",
       "    }\n",
       "\n",
       "    .dataframe tbody tr th {\n",
       "        vertical-align: top;\n",
       "    }\n",
       "\n",
       "    .dataframe thead th {\n",
       "        text-align: right;\n",
       "    }\n",
       "</style>\n",
       "<table border=\"1\" class=\"dataframe\">\n",
       "  <thead>\n",
       "    <tr style=\"text-align: right;\">\n",
       "      <th></th>\n",
       "      <th>longitude</th>\n",
       "      <th>price</th>\n",
       "      <th>minimum_nights</th>\n",
       "      <th>number_of_reviews</th>\n",
       "      <th>reviews_per_month</th>\n",
       "      <th>calculated_host_listings_count</th>\n",
       "      <th>availability_365</th>\n",
       "      <th>min_distance_to_airport</th>\n",
       "      <th>name_length</th>\n",
       "      <th>ng_Brooklyn</th>\n",
       "      <th>...</th>\n",
       "      <th>nh_Westchester Square</th>\n",
       "      <th>nh_Westerleigh</th>\n",
       "      <th>nh_Whitestone</th>\n",
       "      <th>nh_Williamsbridge</th>\n",
       "      <th>nh_Williamsburg</th>\n",
       "      <th>nh_Willowbrook</th>\n",
       "      <th>nh_Windsor Terrace</th>\n",
       "      <th>nh_Woodhaven</th>\n",
       "      <th>nh_Woodlawn</th>\n",
       "      <th>nh_Woodside</th>\n",
       "    </tr>\n",
       "    <tr>\n",
       "      <th>id</th>\n",
       "      <th></th>\n",
       "      <th></th>\n",
       "      <th></th>\n",
       "      <th></th>\n",
       "      <th></th>\n",
       "      <th></th>\n",
       "      <th></th>\n",
       "      <th></th>\n",
       "      <th></th>\n",
       "      <th></th>\n",
       "      <th></th>\n",
       "      <th></th>\n",
       "      <th></th>\n",
       "      <th></th>\n",
       "      <th></th>\n",
       "      <th></th>\n",
       "      <th></th>\n",
       "      <th></th>\n",
       "      <th></th>\n",
       "      <th></th>\n",
       "      <th></th>\n",
       "    </tr>\n",
       "  </thead>\n",
       "  <tbody>\n",
       "    <tr>\n",
       "      <th>2539</th>\n",
       "      <td>-73.97237</td>\n",
       "      <td>149</td>\n",
       "      <td>30</td>\n",
       "      <td>9</td>\n",
       "      <td>0.21</td>\n",
       "      <td>6</td>\n",
       "      <td>365</td>\n",
       "      <td>16.447</td>\n",
       "      <td>8</td>\n",
       "      <td>1</td>\n",
       "      <td>...</td>\n",
       "      <td>0</td>\n",
       "      <td>0</td>\n",
       "      <td>0</td>\n",
       "      <td>0</td>\n",
       "      <td>0</td>\n",
       "      <td>0</td>\n",
       "      <td>0</td>\n",
       "      <td>0</td>\n",
       "      <td>0</td>\n",
       "      <td>0</td>\n",
       "    </tr>\n",
       "    <tr>\n",
       "      <th>2595</th>\n",
       "      <td>-73.98377</td>\n",
       "      <td>225</td>\n",
       "      <td>30</td>\n",
       "      <td>45</td>\n",
       "      <td>0.38</td>\n",
       "      <td>2</td>\n",
       "      <td>355</td>\n",
       "      <td>9.622</td>\n",
       "      <td>3</td>\n",
       "      <td>0</td>\n",
       "      <td>...</td>\n",
       "      <td>0</td>\n",
       "      <td>0</td>\n",
       "      <td>0</td>\n",
       "      <td>0</td>\n",
       "      <td>0</td>\n",
       "      <td>0</td>\n",
       "      <td>0</td>\n",
       "      <td>0</td>\n",
       "      <td>0</td>\n",
       "      <td>0</td>\n",
       "    </tr>\n",
       "    <tr>\n",
       "      <th>3647</th>\n",
       "      <td>-73.94190</td>\n",
       "      <td>150</td>\n",
       "      <td>30</td>\n",
       "      <td>0</td>\n",
       "      <td>0.00</td>\n",
       "      <td>1</td>\n",
       "      <td>365</td>\n",
       "      <td>6.750</td>\n",
       "      <td>6</td>\n",
       "      <td>0</td>\n",
       "      <td>...</td>\n",
       "      <td>0</td>\n",
       "      <td>0</td>\n",
       "      <td>0</td>\n",
       "      <td>0</td>\n",
       "      <td>0</td>\n",
       "      <td>0</td>\n",
       "      <td>0</td>\n",
       "      <td>0</td>\n",
       "      <td>0</td>\n",
       "      <td>0</td>\n",
       "    </tr>\n",
       "    <tr>\n",
       "      <th>3831</th>\n",
       "      <td>-73.95976</td>\n",
       "      <td>89</td>\n",
       "      <td>30</td>\n",
       "      <td>270</td>\n",
       "      <td>4.64</td>\n",
       "      <td>1</td>\n",
       "      <td>194</td>\n",
       "      <td>12.503</td>\n",
       "      <td>5</td>\n",
       "      <td>1</td>\n",
       "      <td>...</td>\n",
       "      <td>0</td>\n",
       "      <td>0</td>\n",
       "      <td>0</td>\n",
       "      <td>0</td>\n",
       "      <td>0</td>\n",
       "      <td>0</td>\n",
       "      <td>0</td>\n",
       "      <td>0</td>\n",
       "      <td>0</td>\n",
       "      <td>0</td>\n",
       "    </tr>\n",
       "    <tr>\n",
       "      <th>5022</th>\n",
       "      <td>-73.94399</td>\n",
       "      <td>80</td>\n",
       "      <td>30</td>\n",
       "      <td>9</td>\n",
       "      <td>0.10</td>\n",
       "      <td>1</td>\n",
       "      <td>0</td>\n",
       "      <td>6.376</td>\n",
       "      <td>7</td>\n",
       "      <td>0</td>\n",
       "      <td>...</td>\n",
       "      <td>0</td>\n",
       "      <td>0</td>\n",
       "      <td>0</td>\n",
       "      <td>0</td>\n",
       "      <td>0</td>\n",
       "      <td>0</td>\n",
       "      <td>0</td>\n",
       "      <td>0</td>\n",
       "      <td>0</td>\n",
       "      <td>0</td>\n",
       "    </tr>\n",
       "  </tbody>\n",
       "</table>\n",
       "<p>5 rows × 233 columns</p>\n",
       "</div>"
      ],
      "text/plain": [
       "      longitude  price  minimum_nights  number_of_reviews  reviews_per_month  \\\n",
       "id                                                                             \n",
       "2539  -73.97237    149              30                  9               0.21   \n",
       "2595  -73.98377    225              30                 45               0.38   \n",
       "3647  -73.94190    150              30                  0               0.00   \n",
       "3831  -73.95976     89              30                270               4.64   \n",
       "5022  -73.94399     80              30                  9               0.10   \n",
       "\n",
       "      calculated_host_listings_count  availability_365  \\\n",
       "id                                                       \n",
       "2539                               6               365   \n",
       "2595                               2               355   \n",
       "3647                               1               365   \n",
       "3831                               1               194   \n",
       "5022                               1                 0   \n",
       "\n",
       "      min_distance_to_airport  name_length  ng_Brooklyn  ...  \\\n",
       "id                                                       ...   \n",
       "2539                   16.447            8            1  ...   \n",
       "2595                    9.622            3            0  ...   \n",
       "3647                    6.750            6            0  ...   \n",
       "3831                   12.503            5            1  ...   \n",
       "5022                    6.376            7            0  ...   \n",
       "\n",
       "      nh_Westchester Square  nh_Westerleigh  nh_Whitestone  nh_Williamsbridge  \\\n",
       "id                                                                              \n",
       "2539                      0               0              0                  0   \n",
       "2595                      0               0              0                  0   \n",
       "3647                      0               0              0                  0   \n",
       "3831                      0               0              0                  0   \n",
       "5022                      0               0              0                  0   \n",
       "\n",
       "      nh_Williamsburg  nh_Willowbrook  nh_Windsor Terrace  nh_Woodhaven  \\\n",
       "id                                                                        \n",
       "2539                0               0                   0             0   \n",
       "2595                0               0                   0             0   \n",
       "3647                0               0                   0             0   \n",
       "3831                0               0                   0             0   \n",
       "5022                0               0                   0             0   \n",
       "\n",
       "      nh_Woodlawn  nh_Woodside  \n",
       "id                              \n",
       "2539            0            0  \n",
       "2595            0            0  \n",
       "3647            0            0  \n",
       "3831            0            0  \n",
       "5022            0            0  \n",
       "\n",
       "[5 rows x 233 columns]"
      ]
     },
     "execution_count": 37,
     "metadata": {},
     "output_type": "execute_result"
    }
   ],
   "source": [
    "df_hot = pd.get_dummies(df, columns = ['neighbourhood_group',\"room_type\", \"neighbourhood\"], prefix = ['ng',\"rt\", \"nh\"],drop_first= True)\n",
    "# df_hot.drop([\"neighbourhood\"], axis = 1, inplace = True)\n",
    "df_hot.head()"
   ]
  },
  {
   "cell_type": "code",
   "execution_count": 38,
   "metadata": {},
   "outputs": [
    {
     "data": {
      "text/plain": [
       "(45538, 233)"
      ]
     },
     "execution_count": 38,
     "metadata": {},
     "output_type": "execute_result"
    }
   ],
   "source": [
    "df_hot.shape"
   ]
  },
  {
   "cell_type": "code",
   "execution_count": 39,
   "metadata": {},
   "outputs": [],
   "source": [
    "from sklearn.model_selection import train_test_split\n",
    "X = df_hot.loc[:, df_hot.columns != \"price\"]\n",
    "Y = df_hot[\"price\"]"
   ]
  },
  {
   "cell_type": "code",
   "execution_count": 40,
   "metadata": {},
   "outputs": [],
   "source": [
    "X_train, X_test, Y_train, Y_test = train_test_split(X, Y, test_size = 0.2, random_state = 13)"
   ]
  },
  {
   "cell_type": "code",
   "execution_count": 41,
   "metadata": {},
   "outputs": [],
   "source": [
    "model_lr = LinearRegression().fit(X_train, Y_train)"
   ]
  },
  {
   "cell_type": "code",
   "execution_count": 42,
   "metadata": {},
   "outputs": [
    {
     "data": {
      "text/plain": [
       "array([-4.60576248e+02, -7.96512403e-02, -4.26001465e-02, -1.28314406e-03,\n",
       "        1.14759108e-02,  5.50714282e-02, -7.94225290e-01,  9.11449753e-01,\n",
       "        5.26220516e+08, -3.50054903e+10, -3.55667058e+09, -1.12980056e+10,\n",
       "       -6.98258143e+01, -9.32831738e+01,  1.12980054e+10,  1.12980055e+10,\n",
       "        3.55667066e+09,  3.55667058e+09, -5.26220569e+08,  3.50054903e+10,\n",
       "       -5.26220570e+08,  3.55667068e+09, -5.05428730e+10,  1.31870567e+01,\n",
       "        3.55667065e+09,  3.55667064e+09, -5.26220526e+08,  3.55667065e+09,\n",
       "        3.55667069e+09,  1.56900810e+01, -5.26220562e+08, -5.26220540e+08,\n",
       "       -5.26220510e+08, -5.26220565e+08,  3.55667077e+09,  3.55667063e+09,\n",
       "       -5.26220539e+08, -1.41483201e+01, -5.26220514e+08, -5.26220522e+08,\n",
       "        1.12980054e+10, -5.26220522e+08,  3.55667066e+09, -5.26220523e+08,\n",
       "       -5.26220521e+08, -9.27138734e+00,  1.12980055e+10,  3.50054903e+10,\n",
       "        3.50054903e+10,  3.74795203e+01,  3.50054903e+10, -4.94620949e+00,\n",
       "        2.33415588e+01,  1.12980055e+10, -5.26220518e+08,  4.23073742e+01,\n",
       "       -5.26220514e+08,  3.55667058e+09, -5.26220541e+08,  1.12980055e+10,\n",
       "       -8.58105505e+00, -1.42071167e+01, -5.26220553e+08,  3.55667058e+09,\n",
       "       -5.26220527e+08, -5.26220516e+08, -5.26220479e+08,  3.55667058e+09,\n",
       "        1.12980055e+10,  3.55667065e+09, -5.26220513e+08, -5.26220569e+08,\n",
       "        3.55667058e+09, -5.26220534e+08,  3.50054903e+10,  1.21004249e+01,\n",
       "       -5.26220512e+08,  3.50054903e+10,  4.93533545e+01,  1.60430744e+01,\n",
       "        3.55667063e+09,  3.55667059e+09,  1.12980055e+10,  1.12980055e+10,\n",
       "        3.55667065e+09, -3.53113008e+00,  3.50054903e+10, -5.26220544e+08,\n",
       "        3.50054904e+10, -5.26220523e+08,  3.55667062e+09,  1.80361700e+00,\n",
       "        3.55667061e+09, -5.26220515e+08, -5.26220576e+08,  3.55667063e+09,\n",
       "        3.55667058e+09, -5.26220520e+08,  3.50054903e+10,  1.12980054e+10,\n",
       "        1.12980054e+10, -5.26220551e+08,  1.12980054e+10, -5.26220512e+08,\n",
       "        3.50054903e+10,  1.12980055e+10,  3.50054903e+10,  3.50054903e+10,\n",
       "       -2.67460654e+01,  3.55667065e+09,  3.55667067e+09,  3.55667062e+09,\n",
       "        1.12980054e+10,  1.12980054e+10, -1.62984148e+01,  3.50054903e+10,\n",
       "        3.55667059e+09,  3.55667063e+09,  3.55667065e+09,  3.55667066e+09,\n",
       "       -5.26220545e+08,  3.55667063e+09,  3.55667061e+09, -1.08880758e+00,\n",
       "        3.50054903e+10,  3.55667065e+09,  1.12980055e+10,  3.50054903e+10,\n",
       "        3.55667069e+09,  3.55667058e+09, -1.16650044e+01,  3.50054903e+10,\n",
       "       -5.26220535e+08,  3.50054903e+10,  1.12980054e+10,  3.55667057e+09,\n",
       "       -2.72524979e+01,  3.55667059e+09,  1.12980054e+10,  3.50054904e+10,\n",
       "       -5.26220549e+08, -5.26220503e+08,  3.50054903e+10, -1.69021785e+01,\n",
       "        2.22190102e+01, -1.07801437e+00, -2.18532007e+01, -1.71114770e+01,\n",
       "       -2.56380746e+01,  3.50054903e+10, -5.26220498e+08,  3.55667068e+09,\n",
       "        1.12980055e+10, -4.88139944e+06,  1.12980054e+10,  1.12980054e+10,\n",
       "        3.50054904e+10,  3.50054903e+10,  8.06650507e+00,  1.51803136e+01,\n",
       "        1.12980055e+10,  3.34481761e+01,  3.55667059e+09, -5.26220512e+08,\n",
       "        5.02734256e+00,  2.46165439e+01,  7.02951014e+00, -1.79185197e+01,\n",
       "        1.12980055e+10,  1.12980055e+10, -5.26220516e+08, -5.26220537e+08,\n",
       "        3.55667064e+09,  1.12980054e+10, -5.26220547e+08,  3.55667060e+09,\n",
       "        3.55667062e+09,  1.12980054e+10,  3.55667057e+09,  1.33376840e+01,\n",
       "        3.55667063e+09,  3.50054903e+10,  1.12980055e+10,  3.55667065e+09,\n",
       "        1.12980054e+10,  2.56840678e+01, -5.26220524e+08, -5.26220535e+08,\n",
       "        1.12980055e+10,  1.12980054e+10,  3.50054903e+10, -1.95061331e+01,\n",
       "        1.12980055e+10,  3.55667062e+09, -5.26220516e+08,  3.55667065e+09,\n",
       "       -3.91144341e+01,  3.55667065e+09,  1.12980055e+10,  1.12980055e+10,\n",
       "        3.50054903e+10,  3.55667057e+09, -5.26220557e+08,  3.50054903e+10,\n",
       "        2.17906859e+01,  1.12980054e+10,  1.12980055e+10,  1.12980054e+10,\n",
       "       -1.91118294e+01,  3.50054904e+10,  3.50054903e+10,  1.38488462e+01,\n",
       "       -7.20523620e+00,  3.50054903e+10,  3.50054903e+10,  1.85681423e+01,\n",
       "       -5.26220491e+08,  1.28883018e+01,  3.50054903e+10,  1.12980055e+10,\n",
       "        3.28622519e+01,  3.50054903e+10,  1.38343483e+00,  1.12980054e+10,\n",
       "        3.55667062e+09, -9.38337326e-01, -5.26220505e+08,  1.12980056e+10,\n",
       "       -5.26220524e+08,  3.55667059e+09, -3.08181953e+00,  3.55667058e+09])"
      ]
     },
     "execution_count": 42,
     "metadata": {},
     "output_type": "execute_result"
    }
   ],
   "source": [
    "model_lr.coef_"
   ]
  },
  {
   "cell_type": "code",
   "execution_count": 43,
   "metadata": {},
   "outputs": [
    {
     "data": {
      "text/plain": [
       "0.5289952623993418"
      ]
     },
     "execution_count": 43,
     "metadata": {},
     "output_type": "execute_result"
    }
   ],
   "source": [
    "model_lr.score(X_train, Y_train)"
   ]
  },
  {
   "cell_type": "code",
   "execution_count": 44,
   "metadata": {},
   "outputs": [],
   "source": [
    "from sklearn import preprocessing, metrics\n",
    "\n",
    "Y_pred = model_lr.predict(X_test)"
   ]
  },
  {
   "cell_type": "code",
   "execution_count": 45,
   "metadata": {},
   "outputs": [
    {
     "data": {
      "text/plain": [
       "array([107.47334897,  84.3691672 ,  57.65982514, ...,  51.91864287,\n",
       "       120.88072661, 195.3041824 ])"
      ]
     },
     "execution_count": 45,
     "metadata": {},
     "output_type": "execute_result"
    }
   ],
   "source": [
    "Y_pred"
   ]
  },
  {
   "cell_type": "code",
   "execution_count": 46,
   "metadata": {},
   "outputs": [
    {
     "data": {
      "text/plain": [
       "array([160,  75,  40, ...,  60,  99,  95], dtype=int64)"
      ]
     },
     "execution_count": 46,
     "metadata": {},
     "output_type": "execute_result"
    }
   ],
   "source": [
    "np.array(Y_test)"
   ]
  },
  {
   "cell_type": "code",
   "execution_count": 47,
   "metadata": {},
   "outputs": [
    {
     "data": {
      "text/html": [
       "<div>\n",
       "<style scoped>\n",
       "    .dataframe tbody tr th:only-of-type {\n",
       "        vertical-align: middle;\n",
       "    }\n",
       "\n",
       "    .dataframe tbody tr th {\n",
       "        vertical-align: top;\n",
       "    }\n",
       "\n",
       "    .dataframe thead th {\n",
       "        text-align: right;\n",
       "    }\n",
       "</style>\n",
       "<table border=\"1\" class=\"dataframe\">\n",
       "  <thead>\n",
       "    <tr style=\"text-align: right;\">\n",
       "      <th></th>\n",
       "      <th>Actual</th>\n",
       "      <th>Predicted</th>\n",
       "    </tr>\n",
       "    <tr>\n",
       "      <th>id</th>\n",
       "      <th></th>\n",
       "      <th></th>\n",
       "    </tr>\n",
       "  </thead>\n",
       "  <tbody>\n",
       "    <tr>\n",
       "      <th>33644836</th>\n",
       "      <td>160</td>\n",
       "      <td>107.473349</td>\n",
       "    </tr>\n",
       "    <tr>\n",
       "      <th>36382381</th>\n",
       "      <td>75</td>\n",
       "      <td>84.369167</td>\n",
       "    </tr>\n",
       "    <tr>\n",
       "      <th>28438882</th>\n",
       "      <td>40</td>\n",
       "      <td>57.659825</td>\n",
       "    </tr>\n",
       "    <tr>\n",
       "      <th>8077469</th>\n",
       "      <td>46</td>\n",
       "      <td>84.969436</td>\n",
       "    </tr>\n",
       "    <tr>\n",
       "      <th>4725852</th>\n",
       "      <td>100</td>\n",
       "      <td>161.351765</td>\n",
       "    </tr>\n",
       "    <tr>\n",
       "      <th>25011733</th>\n",
       "      <td>170</td>\n",
       "      <td>165.864554</td>\n",
       "    </tr>\n",
       "    <tr>\n",
       "      <th>4629870</th>\n",
       "      <td>130</td>\n",
       "      <td>180.918526</td>\n",
       "    </tr>\n",
       "    <tr>\n",
       "      <th>13031383</th>\n",
       "      <td>75</td>\n",
       "      <td>86.478019</td>\n",
       "    </tr>\n",
       "    <tr>\n",
       "      <th>6643716</th>\n",
       "      <td>100</td>\n",
       "      <td>118.128775</td>\n",
       "    </tr>\n",
       "    <tr>\n",
       "      <th>2465962</th>\n",
       "      <td>125</td>\n",
       "      <td>125.412817</td>\n",
       "    </tr>\n",
       "    <tr>\n",
       "      <th>16134745</th>\n",
       "      <td>300</td>\n",
       "      <td>179.916984</td>\n",
       "    </tr>\n",
       "    <tr>\n",
       "      <th>13371699</th>\n",
       "      <td>145</td>\n",
       "      <td>160.611216</td>\n",
       "    </tr>\n",
       "    <tr>\n",
       "      <th>22007011</th>\n",
       "      <td>50</td>\n",
       "      <td>52.618286</td>\n",
       "    </tr>\n",
       "    <tr>\n",
       "      <th>18477009</th>\n",
       "      <td>125</td>\n",
       "      <td>96.792451</td>\n",
       "    </tr>\n",
       "    <tr>\n",
       "      <th>8319488</th>\n",
       "      <td>300</td>\n",
       "      <td>176.373026</td>\n",
       "    </tr>\n",
       "    <tr>\n",
       "      <th>15984863</th>\n",
       "      <td>44</td>\n",
       "      <td>61.701876</td>\n",
       "    </tr>\n",
       "    <tr>\n",
       "      <th>8686040</th>\n",
       "      <td>125</td>\n",
       "      <td>121.904120</td>\n",
       "    </tr>\n",
       "    <tr>\n",
       "      <th>36392015</th>\n",
       "      <td>70</td>\n",
       "      <td>68.471972</td>\n",
       "    </tr>\n",
       "    <tr>\n",
       "      <th>21993232</th>\n",
       "      <td>205</td>\n",
       "      <td>165.631155</td>\n",
       "    </tr>\n",
       "    <tr>\n",
       "      <th>14011411</th>\n",
       "      <td>150</td>\n",
       "      <td>196.884734</td>\n",
       "    </tr>\n",
       "    <tr>\n",
       "      <th>6959212</th>\n",
       "      <td>84</td>\n",
       "      <td>143.729056</td>\n",
       "    </tr>\n",
       "    <tr>\n",
       "      <th>34142214</th>\n",
       "      <td>45</td>\n",
       "      <td>76.007791</td>\n",
       "    </tr>\n",
       "    <tr>\n",
       "      <th>4183424</th>\n",
       "      <td>145</td>\n",
       "      <td>195.607748</td>\n",
       "    </tr>\n",
       "    <tr>\n",
       "      <th>20191974</th>\n",
       "      <td>200</td>\n",
       "      <td>159.930919</td>\n",
       "    </tr>\n",
       "    <tr>\n",
       "      <th>23964830</th>\n",
       "      <td>70</td>\n",
       "      <td>93.275046</td>\n",
       "    </tr>\n",
       "    <tr>\n",
       "      <th>12342004</th>\n",
       "      <td>105</td>\n",
       "      <td>131.362746</td>\n",
       "    </tr>\n",
       "    <tr>\n",
       "      <th>26065193</th>\n",
       "      <td>109</td>\n",
       "      <td>101.730849</td>\n",
       "    </tr>\n",
       "    <tr>\n",
       "      <th>18783614</th>\n",
       "      <td>250</td>\n",
       "      <td>171.826755</td>\n",
       "    </tr>\n",
       "    <tr>\n",
       "      <th>30287525</th>\n",
       "      <td>97</td>\n",
       "      <td>136.717589</td>\n",
       "    </tr>\n",
       "    <tr>\n",
       "      <th>14195878</th>\n",
       "      <td>50</td>\n",
       "      <td>62.656394</td>\n",
       "    </tr>\n",
       "    <tr>\n",
       "      <th>...</th>\n",
       "      <td>...</td>\n",
       "      <td>...</td>\n",
       "    </tr>\n",
       "    <tr>\n",
       "      <th>3835681</th>\n",
       "      <td>50</td>\n",
       "      <td>71.595190</td>\n",
       "    </tr>\n",
       "    <tr>\n",
       "      <th>31989330</th>\n",
       "      <td>55</td>\n",
       "      <td>50.988801</td>\n",
       "    </tr>\n",
       "    <tr>\n",
       "      <th>14187084</th>\n",
       "      <td>65</td>\n",
       "      <td>78.802939</td>\n",
       "    </tr>\n",
       "    <tr>\n",
       "      <th>29760869</th>\n",
       "      <td>100</td>\n",
       "      <td>148.103300</td>\n",
       "    </tr>\n",
       "    <tr>\n",
       "      <th>4678795</th>\n",
       "      <td>140</td>\n",
       "      <td>136.237178</td>\n",
       "    </tr>\n",
       "    <tr>\n",
       "      <th>4119794</th>\n",
       "      <td>149</td>\n",
       "      <td>170.682989</td>\n",
       "    </tr>\n",
       "    <tr>\n",
       "      <th>35847646</th>\n",
       "      <td>220</td>\n",
       "      <td>130.371242</td>\n",
       "    </tr>\n",
       "    <tr>\n",
       "      <th>29946757</th>\n",
       "      <td>125</td>\n",
       "      <td>74.331751</td>\n",
       "    </tr>\n",
       "    <tr>\n",
       "      <th>2451110</th>\n",
       "      <td>279</td>\n",
       "      <td>211.960684</td>\n",
       "    </tr>\n",
       "    <tr>\n",
       "      <th>18190894</th>\n",
       "      <td>49</td>\n",
       "      <td>65.161614</td>\n",
       "    </tr>\n",
       "    <tr>\n",
       "      <th>35448444</th>\n",
       "      <td>50</td>\n",
       "      <td>55.062404</td>\n",
       "    </tr>\n",
       "    <tr>\n",
       "      <th>8428777</th>\n",
       "      <td>125</td>\n",
       "      <td>130.838599</td>\n",
       "    </tr>\n",
       "    <tr>\n",
       "      <th>18718070</th>\n",
       "      <td>114</td>\n",
       "      <td>133.834995</td>\n",
       "    </tr>\n",
       "    <tr>\n",
       "      <th>25033384</th>\n",
       "      <td>150</td>\n",
       "      <td>160.643477</td>\n",
       "    </tr>\n",
       "    <tr>\n",
       "      <th>2793630</th>\n",
       "      <td>120</td>\n",
       "      <td>96.393011</td>\n",
       "    </tr>\n",
       "    <tr>\n",
       "      <th>2636532</th>\n",
       "      <td>142</td>\n",
       "      <td>174.859312</td>\n",
       "    </tr>\n",
       "    <tr>\n",
       "      <th>11740163</th>\n",
       "      <td>200</td>\n",
       "      <td>176.599657</td>\n",
       "    </tr>\n",
       "    <tr>\n",
       "      <th>17731335</th>\n",
       "      <td>60</td>\n",
       "      <td>63.748817</td>\n",
       "    </tr>\n",
       "    <tr>\n",
       "      <th>36441134</th>\n",
       "      <td>150</td>\n",
       "      <td>162.643241</td>\n",
       "    </tr>\n",
       "    <tr>\n",
       "      <th>24778075</th>\n",
       "      <td>50</td>\n",
       "      <td>75.851896</td>\n",
       "    </tr>\n",
       "    <tr>\n",
       "      <th>28312421</th>\n",
       "      <td>200</td>\n",
       "      <td>180.397208</td>\n",
       "    </tr>\n",
       "    <tr>\n",
       "      <th>32036850</th>\n",
       "      <td>80</td>\n",
       "      <td>98.618796</td>\n",
       "    </tr>\n",
       "    <tr>\n",
       "      <th>8381953</th>\n",
       "      <td>124</td>\n",
       "      <td>150.150351</td>\n",
       "    </tr>\n",
       "    <tr>\n",
       "      <th>15995824</th>\n",
       "      <td>65</td>\n",
       "      <td>73.357825</td>\n",
       "    </tr>\n",
       "    <tr>\n",
       "      <th>17367004</th>\n",
       "      <td>289</td>\n",
       "      <td>129.263159</td>\n",
       "    </tr>\n",
       "    <tr>\n",
       "      <th>33892511</th>\n",
       "      <td>150</td>\n",
       "      <td>166.722986</td>\n",
       "    </tr>\n",
       "    <tr>\n",
       "      <th>36186519</th>\n",
       "      <td>135</td>\n",
       "      <td>146.677276</td>\n",
       "    </tr>\n",
       "    <tr>\n",
       "      <th>29805157</th>\n",
       "      <td>60</td>\n",
       "      <td>51.918643</td>\n",
       "    </tr>\n",
       "    <tr>\n",
       "      <th>17842111</th>\n",
       "      <td>99</td>\n",
       "      <td>120.880727</td>\n",
       "    </tr>\n",
       "    <tr>\n",
       "      <th>6223929</th>\n",
       "      <td>95</td>\n",
       "      <td>195.304182</td>\n",
       "    </tr>\n",
       "  </tbody>\n",
       "</table>\n",
       "<p>9108 rows × 2 columns</p>\n",
       "</div>"
      ],
      "text/plain": [
       "          Actual   Predicted\n",
       "id                          \n",
       "33644836     160  107.473349\n",
       "36382381      75   84.369167\n",
       "28438882      40   57.659825\n",
       "8077469       46   84.969436\n",
       "4725852      100  161.351765\n",
       "25011733     170  165.864554\n",
       "4629870      130  180.918526\n",
       "13031383      75   86.478019\n",
       "6643716      100  118.128775\n",
       "2465962      125  125.412817\n",
       "16134745     300  179.916984\n",
       "13371699     145  160.611216\n",
       "22007011      50   52.618286\n",
       "18477009     125   96.792451\n",
       "8319488      300  176.373026\n",
       "15984863      44   61.701876\n",
       "8686040      125  121.904120\n",
       "36392015      70   68.471972\n",
       "21993232     205  165.631155\n",
       "14011411     150  196.884734\n",
       "6959212       84  143.729056\n",
       "34142214      45   76.007791\n",
       "4183424      145  195.607748\n",
       "20191974     200  159.930919\n",
       "23964830      70   93.275046\n",
       "12342004     105  131.362746\n",
       "26065193     109  101.730849\n",
       "18783614     250  171.826755\n",
       "30287525      97  136.717589\n",
       "14195878      50   62.656394\n",
       "...          ...         ...\n",
       "3835681       50   71.595190\n",
       "31989330      55   50.988801\n",
       "14187084      65   78.802939\n",
       "29760869     100  148.103300\n",
       "4678795      140  136.237178\n",
       "4119794      149  170.682989\n",
       "35847646     220  130.371242\n",
       "29946757     125   74.331751\n",
       "2451110      279  211.960684\n",
       "18190894      49   65.161614\n",
       "35448444      50   55.062404\n",
       "8428777      125  130.838599\n",
       "18718070     114  133.834995\n",
       "25033384     150  160.643477\n",
       "2793630      120   96.393011\n",
       "2636532      142  174.859312\n",
       "11740163     200  176.599657\n",
       "17731335      60   63.748817\n",
       "36441134     150  162.643241\n",
       "24778075      50   75.851896\n",
       "28312421     200  180.397208\n",
       "32036850      80   98.618796\n",
       "8381953      124  150.150351\n",
       "15995824      65   73.357825\n",
       "17367004     289  129.263159\n",
       "33892511     150  166.722986\n",
       "36186519     135  146.677276\n",
       "29805157      60   51.918643\n",
       "17842111      99  120.880727\n",
       "6223929       95  195.304182\n",
       "\n",
       "[9108 rows x 2 columns]"
      ]
     },
     "execution_count": 47,
     "metadata": {},
     "output_type": "execute_result"
    }
   ],
   "source": [
    "pd.DataFrame({\"Actual\": Y_test, \"Predicted\": Y_pred})"
   ]
  },
  {
   "cell_type": "code",
   "execution_count": 48,
   "metadata": {},
   "outputs": [
    {
     "data": {
      "text/plain": [
       "924009026.544081"
      ]
     },
     "execution_count": 48,
     "metadata": {},
     "output_type": "execute_result"
    }
   ],
   "source": [
    "np.sqrt(metrics.mean_squared_error(Y_test, Y_pred))"
   ]
  },
  {
   "cell_type": "code",
   "execution_count": 49,
   "metadata": {},
   "outputs": [
    {
     "data": {
      "text/html": [
       "<div>\n",
       "<style scoped>\n",
       "    .dataframe tbody tr th:only-of-type {\n",
       "        vertical-align: middle;\n",
       "    }\n",
       "\n",
       "    .dataframe tbody tr th {\n",
       "        vertical-align: top;\n",
       "    }\n",
       "\n",
       "    .dataframe thead th {\n",
       "        text-align: right;\n",
       "    }\n",
       "</style>\n",
       "<table border=\"1\" class=\"dataframe\">\n",
       "  <thead>\n",
       "    <tr style=\"text-align: right;\">\n",
       "      <th></th>\n",
       "      <th>longitude</th>\n",
       "      <th>price</th>\n",
       "      <th>minimum_nights</th>\n",
       "      <th>number_of_reviews</th>\n",
       "      <th>reviews_per_month</th>\n",
       "      <th>calculated_host_listings_count</th>\n",
       "      <th>availability_365</th>\n",
       "      <th>min_distance_to_airport</th>\n",
       "      <th>name_length</th>\n",
       "      <th>ng_Brooklyn</th>\n",
       "      <th>...</th>\n",
       "      <th>nh_Westchester Square</th>\n",
       "      <th>nh_Westerleigh</th>\n",
       "      <th>nh_Whitestone</th>\n",
       "      <th>nh_Williamsbridge</th>\n",
       "      <th>nh_Williamsburg</th>\n",
       "      <th>nh_Willowbrook</th>\n",
       "      <th>nh_Windsor Terrace</th>\n",
       "      <th>nh_Woodhaven</th>\n",
       "      <th>nh_Woodlawn</th>\n",
       "      <th>nh_Woodside</th>\n",
       "    </tr>\n",
       "    <tr>\n",
       "      <th>id</th>\n",
       "      <th></th>\n",
       "      <th></th>\n",
       "      <th></th>\n",
       "      <th></th>\n",
       "      <th></th>\n",
       "      <th></th>\n",
       "      <th></th>\n",
       "      <th></th>\n",
       "      <th></th>\n",
       "      <th></th>\n",
       "      <th></th>\n",
       "      <th></th>\n",
       "      <th></th>\n",
       "      <th></th>\n",
       "      <th></th>\n",
       "      <th></th>\n",
       "      <th></th>\n",
       "      <th></th>\n",
       "      <th></th>\n",
       "      <th></th>\n",
       "      <th></th>\n",
       "    </tr>\n",
       "  </thead>\n",
       "  <tbody>\n",
       "    <tr>\n",
       "      <th>2539</th>\n",
       "      <td>-73.97237</td>\n",
       "      <td>149</td>\n",
       "      <td>30</td>\n",
       "      <td>9</td>\n",
       "      <td>0.21</td>\n",
       "      <td>6</td>\n",
       "      <td>365</td>\n",
       "      <td>16.447</td>\n",
       "      <td>8</td>\n",
       "      <td>1</td>\n",
       "      <td>...</td>\n",
       "      <td>0</td>\n",
       "      <td>0</td>\n",
       "      <td>0</td>\n",
       "      <td>0</td>\n",
       "      <td>0</td>\n",
       "      <td>0</td>\n",
       "      <td>0</td>\n",
       "      <td>0</td>\n",
       "      <td>0</td>\n",
       "      <td>0</td>\n",
       "    </tr>\n",
       "    <tr>\n",
       "      <th>2595</th>\n",
       "      <td>-73.98377</td>\n",
       "      <td>225</td>\n",
       "      <td>30</td>\n",
       "      <td>45</td>\n",
       "      <td>0.38</td>\n",
       "      <td>2</td>\n",
       "      <td>355</td>\n",
       "      <td>9.622</td>\n",
       "      <td>3</td>\n",
       "      <td>0</td>\n",
       "      <td>...</td>\n",
       "      <td>0</td>\n",
       "      <td>0</td>\n",
       "      <td>0</td>\n",
       "      <td>0</td>\n",
       "      <td>0</td>\n",
       "      <td>0</td>\n",
       "      <td>0</td>\n",
       "      <td>0</td>\n",
       "      <td>0</td>\n",
       "      <td>0</td>\n",
       "    </tr>\n",
       "    <tr>\n",
       "      <th>3647</th>\n",
       "      <td>-73.94190</td>\n",
       "      <td>150</td>\n",
       "      <td>30</td>\n",
       "      <td>0</td>\n",
       "      <td>0.00</td>\n",
       "      <td>1</td>\n",
       "      <td>365</td>\n",
       "      <td>6.750</td>\n",
       "      <td>6</td>\n",
       "      <td>0</td>\n",
       "      <td>...</td>\n",
       "      <td>0</td>\n",
       "      <td>0</td>\n",
       "      <td>0</td>\n",
       "      <td>0</td>\n",
       "      <td>0</td>\n",
       "      <td>0</td>\n",
       "      <td>0</td>\n",
       "      <td>0</td>\n",
       "      <td>0</td>\n",
       "      <td>0</td>\n",
       "    </tr>\n",
       "    <tr>\n",
       "      <th>3831</th>\n",
       "      <td>-73.95976</td>\n",
       "      <td>89</td>\n",
       "      <td>30</td>\n",
       "      <td>270</td>\n",
       "      <td>4.64</td>\n",
       "      <td>1</td>\n",
       "      <td>194</td>\n",
       "      <td>12.503</td>\n",
       "      <td>5</td>\n",
       "      <td>1</td>\n",
       "      <td>...</td>\n",
       "      <td>0</td>\n",
       "      <td>0</td>\n",
       "      <td>0</td>\n",
       "      <td>0</td>\n",
       "      <td>0</td>\n",
       "      <td>0</td>\n",
       "      <td>0</td>\n",
       "      <td>0</td>\n",
       "      <td>0</td>\n",
       "      <td>0</td>\n",
       "    </tr>\n",
       "    <tr>\n",
       "      <th>5022</th>\n",
       "      <td>-73.94399</td>\n",
       "      <td>80</td>\n",
       "      <td>30</td>\n",
       "      <td>9</td>\n",
       "      <td>0.10</td>\n",
       "      <td>1</td>\n",
       "      <td>0</td>\n",
       "      <td>6.376</td>\n",
       "      <td>7</td>\n",
       "      <td>0</td>\n",
       "      <td>...</td>\n",
       "      <td>0</td>\n",
       "      <td>0</td>\n",
       "      <td>0</td>\n",
       "      <td>0</td>\n",
       "      <td>0</td>\n",
       "      <td>0</td>\n",
       "      <td>0</td>\n",
       "      <td>0</td>\n",
       "      <td>0</td>\n",
       "      <td>0</td>\n",
       "    </tr>\n",
       "  </tbody>\n",
       "</table>\n",
       "<p>5 rows × 233 columns</p>\n",
       "</div>"
      ],
      "text/plain": [
       "      longitude  price  minimum_nights  number_of_reviews  reviews_per_month  \\\n",
       "id                                                                             \n",
       "2539  -73.97237    149              30                  9               0.21   \n",
       "2595  -73.98377    225              30                 45               0.38   \n",
       "3647  -73.94190    150              30                  0               0.00   \n",
       "3831  -73.95976     89              30                270               4.64   \n",
       "5022  -73.94399     80              30                  9               0.10   \n",
       "\n",
       "      calculated_host_listings_count  availability_365  \\\n",
       "id                                                       \n",
       "2539                               6               365   \n",
       "2595                               2               355   \n",
       "3647                               1               365   \n",
       "3831                               1               194   \n",
       "5022                               1                 0   \n",
       "\n",
       "      min_distance_to_airport  name_length  ng_Brooklyn  ...  \\\n",
       "id                                                       ...   \n",
       "2539                   16.447            8            1  ...   \n",
       "2595                    9.622            3            0  ...   \n",
       "3647                    6.750            6            0  ...   \n",
       "3831                   12.503            5            1  ...   \n",
       "5022                    6.376            7            0  ...   \n",
       "\n",
       "      nh_Westchester Square  nh_Westerleigh  nh_Whitestone  nh_Williamsbridge  \\\n",
       "id                                                                              \n",
       "2539                      0               0              0                  0   \n",
       "2595                      0               0              0                  0   \n",
       "3647                      0               0              0                  0   \n",
       "3831                      0               0              0                  0   \n",
       "5022                      0               0              0                  0   \n",
       "\n",
       "      nh_Williamsburg  nh_Willowbrook  nh_Windsor Terrace  nh_Woodhaven  \\\n",
       "id                                                                        \n",
       "2539                0               0                   0             0   \n",
       "2595                0               0                   0             0   \n",
       "3647                0               0                   0             0   \n",
       "3831                0               0                   0             0   \n",
       "5022                0               0                   0             0   \n",
       "\n",
       "      nh_Woodlawn  nh_Woodside  \n",
       "id                              \n",
       "2539            0            0  \n",
       "2595            0            0  \n",
       "3647            0            0  \n",
       "3831            0            0  \n",
       "5022            0            0  \n",
       "\n",
       "[5 rows x 233 columns]"
      ]
     },
     "execution_count": 49,
     "metadata": {},
     "output_type": "execute_result"
    }
   ],
   "source": [
    "df_hot.head()"
   ]
  },
  {
   "cell_type": "markdown",
   "metadata": {},
   "source": [
    "## Lasso"
   ]
  },
  {
   "cell_type": "code",
   "execution_count": 50,
   "metadata": {},
   "outputs": [],
   "source": [
    "model_lasso = Lasso(alpha = 0.000000001)"
   ]
  },
  {
   "cell_type": "code",
   "execution_count": 51,
   "metadata": {},
   "outputs": [
    {
     "name": "stderr",
     "output_type": "stream",
     "text": [
      "c:\\users\\suman\\appdata\\local\\programs\\python\\python37\\lib\\site-packages\\sklearn\\linear_model\\_coordinate_descent.py:531: ConvergenceWarning: Objective did not converge. You might want to increase the number of iterations. Duality gap: 37084969.596099496, tolerance: 15747.195714531974\n",
      "  positive)\n"
     ]
    },
    {
     "data": {
      "text/plain": [
       "Lasso(alpha=1e-09)"
      ]
     },
     "execution_count": 51,
     "metadata": {},
     "output_type": "execute_result"
    }
   ],
   "source": [
    "model_lasso.fit(X_train, Y_train)"
   ]
  },
  {
   "cell_type": "code",
   "execution_count": 52,
   "metadata": {},
   "outputs": [],
   "source": [
    "Y_pred_lasso = model_lasso.predict(X_test)"
   ]
  },
  {
   "cell_type": "code",
   "execution_count": 53,
   "metadata": {},
   "outputs": [
    {
     "data": {
      "text/plain": [
       "0.5289952319450921"
      ]
     },
     "execution_count": 53,
     "metadata": {},
     "output_type": "execute_result"
    }
   ],
   "source": [
    "model_lasso.score(X_train, Y_train)"
   ]
  },
  {
   "cell_type": "code",
   "execution_count": 54,
   "metadata": {},
   "outputs": [
    {
     "data": {
      "text/plain": [
       "45.66401240822612"
      ]
     },
     "execution_count": 54,
     "metadata": {},
     "output_type": "execute_result"
    }
   ],
   "source": [
    "np.sqrt(metrics.mean_squared_error(Y_test, Y_pred_lasso))"
   ]
  },
  {
   "cell_type": "markdown",
   "metadata": {},
   "source": [
    "## Ridge"
   ]
  },
  {
   "cell_type": "code",
   "execution_count": 55,
   "metadata": {},
   "outputs": [],
   "source": [
    "model_ridge = Ridge(alpha = 0.001)"
   ]
  },
  {
   "cell_type": "code",
   "execution_count": 56,
   "metadata": {},
   "outputs": [
    {
     "data": {
      "text/plain": [
       "Ridge(alpha=0.001)"
      ]
     },
     "execution_count": 56,
     "metadata": {},
     "output_type": "execute_result"
    }
   ],
   "source": [
    "model_ridge.fit(X_train, Y_train)"
   ]
  },
  {
   "cell_type": "code",
   "execution_count": 57,
   "metadata": {},
   "outputs": [],
   "source": [
    "Y_pred_ridge = model_ridge.predict(X_test)"
   ]
  },
  {
   "cell_type": "code",
   "execution_count": 58,
   "metadata": {},
   "outputs": [
    {
     "data": {
      "text/plain": [
       "0.5289952602114234"
      ]
     },
     "execution_count": 58,
     "metadata": {},
     "output_type": "execute_result"
    }
   ],
   "source": [
    "model_ridge.score(X_train, Y_train)"
   ]
  },
  {
   "cell_type": "code",
   "execution_count": 59,
   "metadata": {},
   "outputs": [
    {
     "data": {
      "text/plain": [
       "45.66403703321316"
      ]
     },
     "execution_count": 59,
     "metadata": {},
     "output_type": "execute_result"
    }
   ],
   "source": [
    "np.sqrt(metrics.mean_squared_error(Y_test, Y_pred_ridge))"
   ]
  },
  {
   "cell_type": "markdown",
   "metadata": {},
   "source": [
    "## Random Forest Model"
   ]
  },
  {
   "cell_type": "code",
   "execution_count": 60,
   "metadata": {},
   "outputs": [],
   "source": [
    "model_random = RandomForestRegressor(n_estimators=300)"
   ]
  },
  {
   "cell_type": "code",
   "execution_count": 61,
   "metadata": {},
   "outputs": [
    {
     "data": {
      "text/plain": [
       "RandomForestRegressor(n_estimators=300)"
      ]
     },
     "execution_count": 61,
     "metadata": {},
     "output_type": "execute_result"
    }
   ],
   "source": [
    "model_random.fit(X_train, Y_train)"
   ]
  },
  {
   "cell_type": "code",
   "execution_count": 62,
   "metadata": {},
   "outputs": [],
   "source": [
    "Y_pred_random = model_random.predict(X_test)"
   ]
  },
  {
   "cell_type": "code",
   "execution_count": 63,
   "metadata": {},
   "outputs": [
    {
     "data": {
      "text/plain": [
       "0.93864448733176"
      ]
     },
     "execution_count": 63,
     "metadata": {},
     "output_type": "execute_result"
    }
   ],
   "source": [
    "model_random.score(X_train, Y_train)"
   ]
  },
  {
   "cell_type": "code",
   "execution_count": 64,
   "metadata": {},
   "outputs": [
    {
     "data": {
      "text/plain": [
       "0.5581881158193622"
      ]
     },
     "execution_count": 64,
     "metadata": {},
     "output_type": "execute_result"
    }
   ],
   "source": [
    "model_random.score(X_test, Y_test)"
   ]
  },
  {
   "cell_type": "code",
   "execution_count": 65,
   "metadata": {},
   "outputs": [
    {
     "data": {
      "text/plain": [
       "44.21788368078946"
      ]
     },
     "execution_count": 65,
     "metadata": {},
     "output_type": "execute_result"
    }
   ],
   "source": [
    "np.sqrt(metrics.mean_squared_error(Y_test, Y_pred_random))"
   ]
  },
  {
   "cell_type": "markdown",
   "metadata": {},
   "source": [
    "# Optimization for the best model"
   ]
  },
  {
   "cell_type": "code",
   "execution_count": 67,
   "metadata": {},
   "outputs": [],
   "source": [
    "from sklearn.model_selection import RandomizedSearchCV"
   ]
  },
  {
   "cell_type": "code",
   "execution_count": 68,
   "metadata": {},
   "outputs": [],
   "source": [
    "n_estimators = [int(i) for i in np.linspace(200, 1000, 5)]\n",
    "max_features = [\"auto\", \"sqrt\", \"log2\"]\n",
    "min_samples_split = [2, 5, 8]\n",
    "min_samples_leaf = [1, 2, 4]\n",
    "bootstrap = [True, False]\n",
    "max_depth = [int(i) for i in np.linspace(10, 100, 5)]\n",
    "params_dists = {\n",
    "    \"n_estimators\": n_estimators,\n",
    "    \"max_features\": max_features,\n",
    "    \"max_depth\": max_depth,\n",
    "    \"min_samples_split\": min_samples_split,\n",
    "    \"min_samples_leaf\": min_samples_leaf,\n",
    "    \"bootstrap\": bootstrap\n",
    "}"
   ]
  },
  {
   "cell_type": "code",
   "execution_count": 69,
   "metadata": {},
   "outputs": [],
   "source": [
    "random_model = RandomForestRegressor()\n",
    "optimized_model = RandomizedSearchCV(estimator = random_model, param_distributions = params_dists, n_iter = 100, cv = 3, verbose = 2, random_state = 13, n_jobs = -1)"
   ]
  },
  {
   "cell_type": "code",
   "execution_count": 70,
   "metadata": {},
   "outputs": [
    {
     "data": {
      "text/plain": [
       "RandomizedSearchCV(cv=3, estimator=RandomForestRegressor(), n_iter=100,\n",
       "                   n_jobs=-1,\n",
       "                   param_distributions={'bootstrap': [True, False],\n",
       "                                        'max_depth': [10, 32, 55, 77, 100],\n",
       "                                        'max_features': ['auto', 'sqrt',\n",
       "                                                         'log2'],\n",
       "                                        'min_samples_leaf': [1, 2, 4],\n",
       "                                        'min_samples_split': [2, 5, 8],\n",
       "                                        'n_estimators': [200, 400, 600, 800,\n",
       "                                                         1000]},\n",
       "                   random_state=13, verbose=2)"
      ]
     },
     "execution_count": 70,
     "metadata": {},
     "output_type": "execute_result"
    }
   ],
   "source": [
    "optimized_model"
   ]
  },
  {
   "cell_type": "code",
   "execution_count": 71,
   "metadata": {},
   "outputs": [],
   "source": [
    "if exists(\"final_model.sav\"):\n",
    "    optimized_model = pickle.load(open(\"final_model.sav\", 'rb'))\n",
    "else:\n",
    "    optimized_model.fit(X_train, Y_train) # Estimated time: 130 min"
   ]
  },
  {
   "cell_type": "code",
   "execution_count": 72,
   "metadata": {},
   "outputs": [
    {
     "data": {
      "text/plain": [
       "{'n_estimators': 800,\n",
       " 'min_samples_split': 2,\n",
       " 'min_samples_leaf': 4,\n",
       " 'max_features': 'auto',\n",
       " 'max_depth': 10,\n",
       " 'bootstrap': True}"
      ]
     },
     "execution_count": 72,
     "metadata": {},
     "output_type": "execute_result"
    }
   ],
   "source": [
    "optimized_model.best_params_"
   ]
  },
  {
   "cell_type": "code",
   "execution_count": 73,
   "metadata": {},
   "outputs": [
    {
     "data": {
      "text/plain": [
       "0.6167170272144717"
      ]
     },
     "execution_count": 73,
     "metadata": {},
     "output_type": "execute_result"
    }
   ],
   "source": [
    "optimized_model.score(X_train, Y_train)"
   ]
  },
  {
   "cell_type": "code",
   "execution_count": 73,
   "metadata": {},
   "outputs": [],
   "source": [
    "y_pred_opt = optimized_model.predict(X_test)"
   ]
  },
  {
   "cell_type": "code",
   "execution_count": 74,
   "metadata": {},
   "outputs": [
    {
     "data": {
      "text/plain": [
       "44.03230825538944"
      ]
     },
     "execution_count": 74,
     "metadata": {},
     "output_type": "execute_result"
    }
   ],
   "source": [
    "np.sqrt(metrics.mean_squared_error(Y_test,y_pred_opt))"
   ]
  },
  {
   "cell_type": "code",
   "execution_count": 75,
   "metadata": {},
   "outputs": [
    {
     "data": {
      "text/plain": [
       "0.5618887624015754"
      ]
     },
     "execution_count": 75,
     "metadata": {},
     "output_type": "execute_result"
    }
   ],
   "source": [
    "optimized_model.score(X_test, Y_test)"
   ]
  },
  {
   "cell_type": "code",
   "execution_count": 76,
   "metadata": {},
   "outputs": [
    {
     "data": {
      "text/plain": [
       "array([ 93.05041132, 184.82372909, 116.45035463, ..., 136.79472766,\n",
       "        83.3087703 , 120.1285096 ])"
      ]
     },
     "execution_count": 76,
     "metadata": {},
     "output_type": "execute_result"
    }
   ],
   "source": [
    "optimized_model.predict(X)"
   ]
  },
  {
   "cell_type": "code",
   "execution_count": 79,
   "metadata": {},
   "outputs": [
    {
     "data": {
      "text/html": [
       "<div>\n",
       "<style scoped>\n",
       "    .dataframe tbody tr th:only-of-type {\n",
       "        vertical-align: middle;\n",
       "    }\n",
       "\n",
       "    .dataframe tbody tr th {\n",
       "        vertical-align: top;\n",
       "    }\n",
       "\n",
       "    .dataframe thead th {\n",
       "        text-align: right;\n",
       "    }\n",
       "</style>\n",
       "<table border=\"1\" class=\"dataframe\">\n",
       "  <thead>\n",
       "    <tr style=\"text-align: right;\">\n",
       "      <th></th>\n",
       "      <th>Actual</th>\n",
       "      <th>Predicted</th>\n",
       "    </tr>\n",
       "    <tr>\n",
       "      <th>id</th>\n",
       "      <th></th>\n",
       "      <th></th>\n",
       "    </tr>\n",
       "  </thead>\n",
       "  <tbody>\n",
       "    <tr>\n",
       "      <th>2539</th>\n",
       "      <td>149</td>\n",
       "      <td>93.050411</td>\n",
       "    </tr>\n",
       "    <tr>\n",
       "      <th>2595</th>\n",
       "      <td>225</td>\n",
       "      <td>184.823729</td>\n",
       "    </tr>\n",
       "    <tr>\n",
       "      <th>3647</th>\n",
       "      <td>150</td>\n",
       "      <td>116.450355</td>\n",
       "    </tr>\n",
       "    <tr>\n",
       "      <th>3831</th>\n",
       "      <td>89</td>\n",
       "      <td>144.916453</td>\n",
       "    </tr>\n",
       "    <tr>\n",
       "      <th>5022</th>\n",
       "      <td>80</td>\n",
       "      <td>137.756980</td>\n",
       "    </tr>\n",
       "    <tr>\n",
       "      <th>5099</th>\n",
       "      <td>200</td>\n",
       "      <td>187.686689</td>\n",
       "    </tr>\n",
       "    <tr>\n",
       "      <th>5121</th>\n",
       "      <td>60</td>\n",
       "      <td>69.229791</td>\n",
       "    </tr>\n",
       "    <tr>\n",
       "      <th>5178</th>\n",
       "      <td>79</td>\n",
       "      <td>118.480771</td>\n",
       "    </tr>\n",
       "    <tr>\n",
       "      <th>5203</th>\n",
       "      <td>79</td>\n",
       "      <td>83.546268</td>\n",
       "    </tr>\n",
       "    <tr>\n",
       "      <th>5238</th>\n",
       "      <td>150</td>\n",
       "      <td>192.751439</td>\n",
       "    </tr>\n",
       "    <tr>\n",
       "      <th>5295</th>\n",
       "      <td>135</td>\n",
       "      <td>166.721554</td>\n",
       "    </tr>\n",
       "    <tr>\n",
       "      <th>5441</th>\n",
       "      <td>85</td>\n",
       "      <td>113.985986</td>\n",
       "    </tr>\n",
       "    <tr>\n",
       "      <th>5803</th>\n",
       "      <td>89</td>\n",
       "      <td>87.035227</td>\n",
       "    </tr>\n",
       "    <tr>\n",
       "      <th>6021</th>\n",
       "      <td>85</td>\n",
       "      <td>90.505605</td>\n",
       "    </tr>\n",
       "    <tr>\n",
       "      <th>6090</th>\n",
       "      <td>120</td>\n",
       "      <td>176.223925</td>\n",
       "    </tr>\n",
       "    <tr>\n",
       "      <th>6848</th>\n",
       "      <td>140</td>\n",
       "      <td>165.402193</td>\n",
       "    </tr>\n",
       "    <tr>\n",
       "      <th>7097</th>\n",
       "      <td>215</td>\n",
       "      <td>182.775808</td>\n",
       "    </tr>\n",
       "    <tr>\n",
       "      <th>7322</th>\n",
       "      <td>140</td>\n",
       "      <td>109.776976</td>\n",
       "    </tr>\n",
       "    <tr>\n",
       "      <th>7726</th>\n",
       "      <td>99</td>\n",
       "      <td>123.764989</td>\n",
       "    </tr>\n",
       "    <tr>\n",
       "      <th>7750</th>\n",
       "      <td>190</td>\n",
       "      <td>178.192407</td>\n",
       "    </tr>\n",
       "    <tr>\n",
       "      <th>7801</th>\n",
       "      <td>299</td>\n",
       "      <td>176.671601</td>\n",
       "    </tr>\n",
       "    <tr>\n",
       "      <th>8024</th>\n",
       "      <td>130</td>\n",
       "      <td>106.192322</td>\n",
       "    </tr>\n",
       "    <tr>\n",
       "      <th>8025</th>\n",
       "      <td>80</td>\n",
       "      <td>106.178355</td>\n",
       "    </tr>\n",
       "    <tr>\n",
       "      <th>8110</th>\n",
       "      <td>110</td>\n",
       "      <td>95.442567</td>\n",
       "    </tr>\n",
       "    <tr>\n",
       "      <th>8490</th>\n",
       "      <td>120</td>\n",
       "      <td>139.967188</td>\n",
       "    </tr>\n",
       "    <tr>\n",
       "      <th>8505</th>\n",
       "      <td>60</td>\n",
       "      <td>62.983955</td>\n",
       "    </tr>\n",
       "    <tr>\n",
       "      <th>8700</th>\n",
       "      <td>80</td>\n",
       "      <td>67.717438</td>\n",
       "    </tr>\n",
       "    <tr>\n",
       "      <th>9357</th>\n",
       "      <td>150</td>\n",
       "      <td>177.889613</td>\n",
       "    </tr>\n",
       "    <tr>\n",
       "      <th>9518</th>\n",
       "      <td>44</td>\n",
       "      <td>65.057217</td>\n",
       "    </tr>\n",
       "    <tr>\n",
       "      <th>9657</th>\n",
       "      <td>180</td>\n",
       "      <td>182.796794</td>\n",
       "    </tr>\n",
       "    <tr>\n",
       "      <th>...</th>\n",
       "      <td>...</td>\n",
       "      <td>...</td>\n",
       "    </tr>\n",
       "    <tr>\n",
       "      <th>36472171</th>\n",
       "      <td>80</td>\n",
       "      <td>80.119902</td>\n",
       "    </tr>\n",
       "    <tr>\n",
       "      <th>36472710</th>\n",
       "      <td>58</td>\n",
       "      <td>129.408925</td>\n",
       "    </tr>\n",
       "    <tr>\n",
       "      <th>36473044</th>\n",
       "      <td>25</td>\n",
       "      <td>32.288569</td>\n",
       "    </tr>\n",
       "    <tr>\n",
       "      <th>36473253</th>\n",
       "      <td>25</td>\n",
       "      <td>32.238956</td>\n",
       "    </tr>\n",
       "    <tr>\n",
       "      <th>36474023</th>\n",
       "      <td>45</td>\n",
       "      <td>63.547716</td>\n",
       "    </tr>\n",
       "    <tr>\n",
       "      <th>36474911</th>\n",
       "      <td>99</td>\n",
       "      <td>164.024966</td>\n",
       "    </tr>\n",
       "    <tr>\n",
       "      <th>36475746</th>\n",
       "      <td>35</td>\n",
       "      <td>75.147982</td>\n",
       "    </tr>\n",
       "    <tr>\n",
       "      <th>36476675</th>\n",
       "      <td>260</td>\n",
       "      <td>191.075723</td>\n",
       "    </tr>\n",
       "    <tr>\n",
       "      <th>36477307</th>\n",
       "      <td>170</td>\n",
       "      <td>177.113107</td>\n",
       "    </tr>\n",
       "    <tr>\n",
       "      <th>36477588</th>\n",
       "      <td>50</td>\n",
       "      <td>80.784436</td>\n",
       "    </tr>\n",
       "    <tr>\n",
       "      <th>36478343</th>\n",
       "      <td>140</td>\n",
       "      <td>94.601848</td>\n",
       "    </tr>\n",
       "    <tr>\n",
       "      <th>36478357</th>\n",
       "      <td>60</td>\n",
       "      <td>84.841245</td>\n",
       "    </tr>\n",
       "    <tr>\n",
       "      <th>36479230</th>\n",
       "      <td>42</td>\n",
       "      <td>57.533545</td>\n",
       "    </tr>\n",
       "    <tr>\n",
       "      <th>36479723</th>\n",
       "      <td>45</td>\n",
       "      <td>83.871716</td>\n",
       "    </tr>\n",
       "    <tr>\n",
       "      <th>36480292</th>\n",
       "      <td>120</td>\n",
       "      <td>147.364465</td>\n",
       "    </tr>\n",
       "    <tr>\n",
       "      <th>36481315</th>\n",
       "      <td>120</td>\n",
       "      <td>190.828777</td>\n",
       "    </tr>\n",
       "    <tr>\n",
       "      <th>36481615</th>\n",
       "      <td>54</td>\n",
       "      <td>72.823644</td>\n",
       "    </tr>\n",
       "    <tr>\n",
       "      <th>36482231</th>\n",
       "      <td>40</td>\n",
       "      <td>56.645088</td>\n",
       "    </tr>\n",
       "    <tr>\n",
       "      <th>36482416</th>\n",
       "      <td>75</td>\n",
       "      <td>92.464326</td>\n",
       "    </tr>\n",
       "    <tr>\n",
       "      <th>36482783</th>\n",
       "      <td>190</td>\n",
       "      <td>95.313071</td>\n",
       "    </tr>\n",
       "    <tr>\n",
       "      <th>36482809</th>\n",
       "      <td>75</td>\n",
       "      <td>84.950744</td>\n",
       "    </tr>\n",
       "    <tr>\n",
       "      <th>36483010</th>\n",
       "      <td>200</td>\n",
       "      <td>184.452753</td>\n",
       "    </tr>\n",
       "    <tr>\n",
       "      <th>36483152</th>\n",
       "      <td>170</td>\n",
       "      <td>190.816261</td>\n",
       "    </tr>\n",
       "    <tr>\n",
       "      <th>36484087</th>\n",
       "      <td>125</td>\n",
       "      <td>117.012188</td>\n",
       "    </tr>\n",
       "    <tr>\n",
       "      <th>36484363</th>\n",
       "      <td>65</td>\n",
       "      <td>85.747820</td>\n",
       "    </tr>\n",
       "    <tr>\n",
       "      <th>36484665</th>\n",
       "      <td>70</td>\n",
       "      <td>61.325650</td>\n",
       "    </tr>\n",
       "    <tr>\n",
       "      <th>36485057</th>\n",
       "      <td>40</td>\n",
       "      <td>63.083307</td>\n",
       "    </tr>\n",
       "    <tr>\n",
       "      <th>36485431</th>\n",
       "      <td>115</td>\n",
       "      <td>136.794728</td>\n",
       "    </tr>\n",
       "    <tr>\n",
       "      <th>36485609</th>\n",
       "      <td>55</td>\n",
       "      <td>83.308770</td>\n",
       "    </tr>\n",
       "    <tr>\n",
       "      <th>36487245</th>\n",
       "      <td>90</td>\n",
       "      <td>120.128510</td>\n",
       "    </tr>\n",
       "  </tbody>\n",
       "</table>\n",
       "<p>45538 rows × 2 columns</p>\n",
       "</div>"
      ],
      "text/plain": [
       "          Actual   Predicted\n",
       "id                          \n",
       "2539         149   93.050411\n",
       "2595         225  184.823729\n",
       "3647         150  116.450355\n",
       "3831          89  144.916453\n",
       "5022          80  137.756980\n",
       "5099         200  187.686689\n",
       "5121          60   69.229791\n",
       "5178          79  118.480771\n",
       "5203          79   83.546268\n",
       "5238         150  192.751439\n",
       "5295         135  166.721554\n",
       "5441          85  113.985986\n",
       "5803          89   87.035227\n",
       "6021          85   90.505605\n",
       "6090         120  176.223925\n",
       "6848         140  165.402193\n",
       "7097         215  182.775808\n",
       "7322         140  109.776976\n",
       "7726          99  123.764989\n",
       "7750         190  178.192407\n",
       "7801         299  176.671601\n",
       "8024         130  106.192322\n",
       "8025          80  106.178355\n",
       "8110         110   95.442567\n",
       "8490         120  139.967188\n",
       "8505          60   62.983955\n",
       "8700          80   67.717438\n",
       "9357         150  177.889613\n",
       "9518          44   65.057217\n",
       "9657         180  182.796794\n",
       "...          ...         ...\n",
       "36472171      80   80.119902\n",
       "36472710      58  129.408925\n",
       "36473044      25   32.288569\n",
       "36473253      25   32.238956\n",
       "36474023      45   63.547716\n",
       "36474911      99  164.024966\n",
       "36475746      35   75.147982\n",
       "36476675     260  191.075723\n",
       "36477307     170  177.113107\n",
       "36477588      50   80.784436\n",
       "36478343     140   94.601848\n",
       "36478357      60   84.841245\n",
       "36479230      42   57.533545\n",
       "36479723      45   83.871716\n",
       "36480292     120  147.364465\n",
       "36481315     120  190.828777\n",
       "36481615      54   72.823644\n",
       "36482231      40   56.645088\n",
       "36482416      75   92.464326\n",
       "36482783     190   95.313071\n",
       "36482809      75   84.950744\n",
       "36483010     200  184.452753\n",
       "36483152     170  190.816261\n",
       "36484087     125  117.012188\n",
       "36484363      65   85.747820\n",
       "36484665      70   61.325650\n",
       "36485057      40   63.083307\n",
       "36485431     115  136.794728\n",
       "36485609      55   83.308770\n",
       "36487245      90  120.128510\n",
       "\n",
       "[45538 rows x 2 columns]"
      ]
     },
     "execution_count": 79,
     "metadata": {},
     "output_type": "execute_result"
    }
   ],
   "source": [
    "pd.DataFrame({\"Actual\": Y, \"Predicted\": optimized_model.predict(X)})"
   ]
  },
  {
   "cell_type": "code",
   "execution_count": 83,
   "metadata": {},
   "outputs": [],
   "source": [
    "pickle.dump(optimized_model, open(\"final_model.sav\", \"wb\"))"
   ]
  }
 ],
 "metadata": {
  "kernelspec": {
   "display_name": "Python 3",
   "language": "python",
   "name": "python3"
  },
  "language_info": {
   "codemirror_mode": {
    "name": "ipython",
    "version": 3
   },
   "file_extension": ".py",
   "mimetype": "text/x-python",
   "name": "python",
   "nbconvert_exporter": "python",
   "pygments_lexer": "ipython3",
   "version": "3.7.4"
  }
 },
 "nbformat": 4,
 "nbformat_minor": 2
}
